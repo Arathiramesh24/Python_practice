{
 "cells": [
  {
   "cell_type": "raw",
   "id": "dcb65bfb-0ced-4636-b1b6-cda1cd5e1090",
   "metadata": {},
   "source": [
    "1.⁠ ⁠Write a function to print \"Hello, World!\".\n",
    " "
   ]
  },
  {
   "cell_type": "code",
   "execution_count": 4,
   "id": "f6306a2c-d1be-459d-b2a3-29cd1e5da25a",
   "metadata": {},
   "outputs": [
    {
     "name": "stdout",
     "output_type": "stream",
     "text": [
      "Hello world\n"
     ]
    }
   ],
   "source": [
    "def word():\n",
    "    print(\"Hello world\")\n",
    "word()"
   ]
  },
  {
   "cell_type": "raw",
   "id": "b4757f9f-7b00-43e5-aae0-2f654d978638",
   "metadata": {},
   "source": [
    "2.⁠ ⁠Write a function that takes your name as input and prints a greeting message.\n"
   ]
  },
  {
   "cell_type": "code",
   "execution_count": 14,
   "id": "9ac21d6a-65d4-4a99-96ee-94df8ff4a007",
   "metadata": {},
   "outputs": [
    {
     "name": "stdin",
     "output_type": "stream",
     "text": [
      "Enter your name arathi\n"
     ]
    },
    {
     "name": "stdout",
     "output_type": "stream",
     "text": [
      "Hi arathi\n"
     ]
    }
   ],
   "source": [
    "def word1 ():\n",
    "    name=input(\"Enter your name\")\n",
    "    print(f\"Hi {name}\")\n",
    "word1()\n",
    "\n"
   ]
  },
  {
   "cell_type": "raw",
   "id": "3cf8e15e-26d4-4336-870a-cd6569a4bae4",
   "metadata": {},
   "source": [
    " 3.⁠ ⁠Write a function to find the sum of two numbers (take input from user).\n",
    " "
   ]
  },
  {
   "cell_type": "code",
   "execution_count": 22,
   "id": "4b0dc03c-cdb0-468f-ad7e-12c8c0d37c45",
   "metadata": {},
   "outputs": [
    {
     "name": "stdin",
     "output_type": "stream",
     "text": [
      "enter a number 2\n",
      "enter a number 3\n"
     ]
    },
    {
     "name": "stdout",
     "output_type": "stream",
     "text": [
      "total:5\n"
     ]
    }
   ],
   "source": [
    "def sum():\n",
    "    number1=int(input(\"enter a number\"))\n",
    "    number2=int(input(\"enter a number\"))\n",
    "    total=number1+number2\n",
    "    print(f\"total:{total}\")\n",
    "sum()"
   ]
  },
  {
   "cell_type": "raw",
   "id": "b2373a64-27f0-47e7-afb0-e7dcc11fdf4d",
   "metadata": {},
   "source": [
    "4.⁠ ⁠Write a function to return the square of a number.\n"
   ]
  },
  {
   "cell_type": "code",
   "execution_count": 34,
   "id": "23d4409c-5224-494e-817c-5b4d27d1bfe8",
   "metadata": {},
   "outputs": [
    {
     "name": "stdin",
     "output_type": "stream",
     "text": [
      "Enter a number 2\n"
     ]
    },
    {
     "name": "stdout",
     "output_type": "stream",
     "text": [
      "SQUARE:4\n"
     ]
    }
   ],
   "source": [
    "def square():\n",
    "    a=int(input(\"Enter a number\"))\n",
    "    b=a*a\n",
    "    print(f\"SQUARE:{b}\")\n",
    "square()"
   ]
  },
  {
   "cell_type": "raw",
   "id": "9d8fb0d3-9482-47e1-a651-20f870807ba5",
   "metadata": {},
   "source": [
    " 5.⁠ ⁠Write a function to check if a number is even or odd.\n"
   ]
  },
  {
   "cell_type": "code",
   "execution_count": 38,
   "id": "c53db2bc-6642-4cd1-b32d-3ac3ac27cacb",
   "metadata": {},
   "outputs": [
    {
     "name": "stdin",
     "output_type": "stream",
     "text": [
      "Enter a number 5\n"
     ]
    },
    {
     "name": "stdout",
     "output_type": "stream",
     "text": [
      "5 is odd number\n"
     ]
    }
   ],
   "source": [
    "def even():\n",
    "    num=int(input(\"Enter a number\"))\n",
    "    if num%2==0:\n",
    "        print(f\"{num} is even number\")\n",
    "    else:\n",
    "        print(f\"{num} is odd number\")\n",
    "even()"
   ]
  },
  {
   "cell_type": "code",
   "execution_count": null,
   "id": "89e9a89f-f258-444f-93ed-692d2ffbd121",
   "metadata": {},
   "outputs": [],
   "source": [
    " 6.⁠ ⁠Write a function to find the factorial of a given number.\n",
    " "
   ]
  },
  {
   "cell_type": "code",
   "execution_count": 60,
   "id": "ec94c1e0-71d3-4f84-826b-ea7baf84a88e",
   "metadata": {},
   "outputs": [
    {
     "name": "stdin",
     "output_type": "stream",
     "text": [
      "Enter a number 5\n"
     ]
    },
    {
     "data": {
      "text/plain": [
       "120"
      ]
     },
     "execution_count": 60,
     "metadata": {},
     "output_type": "execute_result"
    }
   ],
   "source": [
    "def fac(n):\n",
    "    if n<0:\n",
    "        print(\"Not valid for negative numbers\")\n",
    "    fact=1\n",
    "    for i in range(1,n+1):\n",
    "        fact*=i\n",
    "    return fact\n",
    "\n",
    "num=int(input(\"Enter a number\"))\n",
    "fac(num)\n",
    "\n"
   ]
  },
  {
   "cell_type": "raw",
   "id": "b14421b8-b5f4-470e-9e2e-63bff6917d33",
   "metadata": {},
   "source": [
    "7.⁠ ⁠Write a function that takes a list and returns the sum of all its elements.\n",
    " "
   ]
  },
  {
   "cell_type": "code",
   "execution_count": 112,
   "id": "7d03fddd-1f71-4e58-9acf-523ee064c45d",
   "metadata": {},
   "outputs": [
    {
     "data": {
      "text/plain": [
       "13"
      ]
     },
     "execution_count": 112,
     "metadata": {},
     "output_type": "execute_result"
    }
   ],
   "source": [
    "def add(num):\n",
    "    total=0\n",
    "    for n in num:\n",
    "        total+=n\n",
    "    return total\n",
    "numbers=[5,4,3,1]\n",
    "add(numbers)\n",
    "    "
   ]
  },
  {
   "cell_type": "code",
   "execution_count": 116,
   "id": "b8c4cea9-849e-4127-853d-2feda8f5ed1b",
   "metadata": {},
   "outputs": [
    {
     "name": "stdin",
     "output_type": "stream",
     "text": [
      "Enter numbers 4 4 20 1\n"
     ]
    },
    {
     "data": {
      "text/plain": [
       "29"
      ]
     },
     "execution_count": 116,
     "metadata": {},
     "output_type": "execute_result"
    }
   ],
   "source": [
    "def add(num):\n",
    "    total=0\n",
    "    for n in num:\n",
    "        total+=n\n",
    "    return total\n",
    "numbers=input(\"Enter numbers\")\n",
    "inp1=list(map(int, numbers.split()))\n",
    "add(inp1)"
   ]
  },
  {
   "cell_type": "raw",
   "id": "88c05121-076c-4a4b-869f-6293b0efc954",
   "metadata": {},
   "source": [
    "8.⁠ ⁠Write a function that takes a list and returns a new list with only even numbers.\n",
    " "
   ]
  },
  {
   "cell_type": "code",
   "execution_count": 124,
   "id": "bcd1f4ce-2593-4d12-895f-7673cefa903e",
   "metadata": {},
   "outputs": [
    {
     "data": {
      "text/plain": [
       "[2, 4, 4]"
      ]
     },
     "execution_count": 124,
     "metadata": {},
     "output_type": "execute_result"
    }
   ],
   "source": [
    "def new(value):\n",
    "    even_numbers=[]\n",
    "    for val in value:\n",
    "        if val%2==0:\n",
    "            even_numbers.append(val)\n",
    "    return even_numbers\n",
    "            \n",
    "numbers=[2,3,4,4,1,5]\n",
    "new(numbers)\n",
    "            \n",
    "        \n",
    "    "
   ]
  },
  {
   "cell_type": "code",
   "execution_count": 134,
   "id": "c10ec1b6-1505-4891-8f70-8ddc1099f1e0",
   "metadata": {},
   "outputs": [
    {
     "name": "stdin",
     "output_type": "stream",
     "text": [
      "enter a number 3 4 2 5 7 8 7\n"
     ]
    },
    {
     "data": {
      "text/plain": [
       "[4, 2, 8]"
      ]
     },
     "execution_count": 134,
     "metadata": {},
     "output_type": "execute_result"
    }
   ],
   "source": [
    "def new(value):\n",
    "    even_num=[]\n",
    "    for val in value:\n",
    "        if val%2==0:\n",
    "            even_num.append(val)\n",
    "    return even_num\n",
    "\n",
    "num=input(\"enter a number\")\n",
    "num1=list(map(int, num.split()))\n",
    "new(num1)"
   ]
  },
  {
   "cell_type": "raw",
   "id": "6f1e89f5-8d41-4da1-b993-9f113354068f",
   "metadata": {},
   "source": [
    "9.⁠ ⁠Write a function that takes two strings and returns the longer one.\n"
   ]
  },
  {
   "cell_type": "code",
   "execution_count": 3,
   "id": "5c4909dc-be28-43d9-bcae-38f74cd067b2",
   "metadata": {},
   "outputs": [
    {
     "data": {
      "text/plain": [
       "'arathii'"
      ]
     },
     "execution_count": 3,
     "metadata": {},
     "output_type": "execute_result"
    }
   ],
   "source": [
    "def lenn(n, m):\n",
    "    if len(n)<len(m):\n",
    "        return m\n",
    "    else:\n",
    "        return n\n",
    "\n",
    "lenn(\"arathii\", \"ammu\")"
   ]
  },
  {
   "cell_type": "raw",
   "id": "981155a4-db1f-4a54-9cdc-7f65c3f705da",
   "metadata": {},
   "source": [
    "10.⁠ ⁠Write a function that converts Celsius temperature to Fahrenheit."
   ]
  },
  {
   "cell_type": "code",
   "execution_count": 5,
   "id": "986a0355-4d0c-4c84-a49a-32c864d172cd",
   "metadata": {},
   "outputs": [
    {
     "name": "stdin",
     "output_type": "stream",
     "text": [
      "Enter temperature in Celsius:  25\n"
     ]
    },
    {
     "name": "stdout",
     "output_type": "stream",
     "text": [
      "25.0°C is 77.0°F\n"
     ]
    }
   ],
   "source": [
    "def conv (celsius):\n",
    "    fahrenheit = (celsius * 9/5) + 32\n",
    "    return fahrenheit\n",
    "temp_c = float(input(\"Enter temperature in Celsius: \"))\n",
    "print(f\"{temp_c}°C is {conv(temp_c)}°F\")\n"
   ]
  },
  {
   "cell_type": "code",
   "execution_count": null,
   "id": "57e07aac-84f3-4073-be2e-f0126bf754cc",
   "metadata": {},
   "outputs": [],
   "source": []
  }
 ],
 "metadata": {
  "kernelspec": {
   "display_name": "Python 3 (ipykernel)",
   "language": "python",
   "name": "python3"
  },
  "language_info": {
   "codemirror_mode": {
    "name": "ipython",
    "version": 3
   },
   "file_extension": ".py",
   "mimetype": "text/x-python",
   "name": "python",
   "nbconvert_exporter": "python",
   "pygments_lexer": "ipython3",
   "version": "3.12.7"
  }
 },
 "nbformat": 4,
 "nbformat_minor": 5
}
