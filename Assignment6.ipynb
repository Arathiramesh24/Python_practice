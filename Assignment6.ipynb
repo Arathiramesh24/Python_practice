{
 "cells": [
  {
   "cell_type": "raw",
   "id": "32279ac1-2fc4-4392-818c-7789554af2b4",
   "metadata": {},
   "source": [
    "1.What is a list in Python? How does it differ from a tuple?"
   ]
  },
  {
   "cell_type": "raw",
   "id": "24bc775e-f8d0-42df-a811-81422eb505bd",
   "metadata": {},
   "source": [
    "A list in Python is a collection of ordered, mutable (changeable), and heterogeneous elements, enclosed in square brackets []"
   ]
  },
  {
   "cell_type": "code",
   "execution_count": 2,
   "id": "5b948def-9213-4a1e-95cd-d4a25286f5bd",
   "metadata": {},
   "outputs": [],
   "source": [
    "#Lists are flexible and editable.\n",
    "list1 = [1, 2, 3]\n",
    "list1[0] = 10  \n"
   ]
  },
  {
   "cell_type": "code",
   "execution_count": 4,
   "id": "c16218cf-dee2-43b5-9eb5-17ea4c296d06",
   "metadata": {},
   "outputs": [
    {
     "data": {
      "text/plain": [
       "[10, 2, 3]"
      ]
     },
     "execution_count": 4,
     "metadata": {},
     "output_type": "execute_result"
    }
   ],
   "source": [
    "list1"
   ]
  },
  {
   "cell_type": "code",
   "execution_count": 3,
   "id": "d4eb3a88-4987-4ac1-8d49-0fcbf0e518b3",
   "metadata": {},
   "outputs": [
    {
     "ename": "TypeError",
     "evalue": "'tuple' object does not support item assignment",
     "output_type": "error",
     "traceback": [
      "\u001b[0;31m---------------------------------------------------------------------------\u001b[0m",
      "\u001b[0;31mTypeError\u001b[0m                                 Traceback (most recent call last)",
      "Cell \u001b[0;32mIn[3], line 3\u001b[0m\n\u001b[1;32m      1\u001b[0m \u001b[38;5;66;03m# This will cause an error (tuples are immutable)\u001b[39;00m\n\u001b[1;32m      2\u001b[0m tuple1 \u001b[38;5;241m=\u001b[39m (\u001b[38;5;241m1\u001b[39m, \u001b[38;5;241m2\u001b[39m, \u001b[38;5;241m3\u001b[39m)\n\u001b[0;32m----> 3\u001b[0m tuple1[\u001b[38;5;241m0\u001b[39m]\u001b[38;5;241m=\u001b[39m\u001b[38;5;241m10\u001b[39m\n",
      "\u001b[0;31mTypeError\u001b[0m: 'tuple' object does not support item assignment"
     ]
    }
   ],
   "source": [
    "# This will cause an error (tuples are immutable)\n",
    "tuple1 = (1, 2, 3)\n",
    "tuple1[0]=10"
   ]
  },
  {
   "cell_type": "raw",
   "id": "d51f3d31-22d5-4e2f-9da6-4bb18f015f40",
   "metadata": {},
   "source": [
    "2.Explain the concept of mutability in the context of Python lists."
   ]
  },
  {
   "cell_type": "raw",
   "id": "c77b4801-c7a5-4e9e-9928-5dedd7c590a1",
   "metadata": {},
   "source": [
    "Mutability means the ability of an object to be changed after it is created."
   ]
  },
  {
   "cell_type": "code",
   "execution_count": 14,
   "id": "94cb995a-fd30-4700-91aa-5ca4d97e3130",
   "metadata": {},
   "outputs": [
    {
     "data": {
      "text/plain": [
       "[20, 4, 33]"
      ]
     },
     "execution_count": 14,
     "metadata": {},
     "output_type": "execute_result"
    }
   ],
   "source": [
    "list1=[20,4,5]\n",
    "list1[2]=33\n",
    "list1"
   ]
  },
  {
   "cell_type": "code",
   "execution_count": 16,
   "id": "ab03f097-5ab7-4ed4-9afe-cfd352a4094b",
   "metadata": {},
   "outputs": [
    {
     "data": {
      "text/plain": [
       "[20, 4, 33, 4]"
      ]
     },
     "execution_count": 16,
     "metadata": {},
     "output_type": "execute_result"
    }
   ],
   "source": [
    "list1.append(4)\n",
    "list1"
   ]
  },
  {
   "cell_type": "code",
   "execution_count": 20,
   "id": "9e04094b-160d-49ac-81e5-80f6f480d3d5",
   "metadata": {},
   "outputs": [
    {
     "data": {
      "text/plain": [
       "[20, 33]"
      ]
     },
     "execution_count": 20,
     "metadata": {},
     "output_type": "execute_result"
    }
   ],
   "source": [
    "list1.remove(4)\n",
    "list1"
   ]
  },
  {
   "cell_type": "raw",
   "id": "55acfea1-0084-4571-b5cb-cfb53b4e6379",
   "metadata": {},
   "source": [
    "3.How do you access elements in a list? What is negative indexing?"
   ]
  },
  {
   "cell_type": "raw",
   "id": "7f1323ea-abf6-412a-87ca-4713425c9bf6",
   "metadata": {},
   "source": [
    "we can access elements in a Python list using indexing. The index represents the position of the element in the list\n",
    "Negative indexes count from the end of the list."
   ]
  },
  {
   "cell_type": "code",
   "execution_count": 28,
   "id": "f5008500-c4f3-4100-a18c-391e8e49762d",
   "metadata": {},
   "outputs": [
    {
     "name": "stdout",
     "output_type": "stream",
     "text": [
      "50\n"
     ]
    }
   ],
   "source": [
    "list1 = [10, 20, 30, 40, 50]\n",
    "print(list1[-1])"
   ]
  },
  {
   "cell_type": "raw",
   "id": "f1ad13ae-6d07-43d6-9b66-e13d117fdc2f",
   "metadata": {},
   "source": [
    "4.Explain list slicing with an example. How can you reverse a list using slicing?"
   ]
  },
  {
   "cell_type": "raw",
   "id": "a6623a70-19fe-4309-8705-d36b71da72f4",
   "metadata": {},
   "source": [
    "List slicing is a way to extract a subsection of a list "
   ]
  },
  {
   "cell_type": "code",
   "execution_count": 30,
   "id": "9dd31fa8-31f5-4cea-b6b0-b3840fce25aa",
   "metadata": {},
   "outputs": [
    {
     "data": {
      "text/plain": [
       "[30, 40]"
      ]
     },
     "execution_count": 30,
     "metadata": {},
     "output_type": "execute_result"
    }
   ],
   "source": [
    "list1 = [10, 20, 30, 40, 50]\n",
    "list1[2:4]"
   ]
  },
  {
   "cell_type": "code",
   "execution_count": 32,
   "id": "0fc2afef-ee16-4c54-a8d9-6e646e95b4da",
   "metadata": {},
   "outputs": [
    {
     "data": {
      "text/plain": [
       "[10, 30, 50]"
      ]
     },
     "execution_count": 32,
     "metadata": {},
     "output_type": "execute_result"
    }
   ],
   "source": [
    "list1 = [10, 20, 30, 40, 50]\n",
    "list1[::2]"
   ]
  },
  {
   "cell_type": "code",
   "execution_count": 34,
   "id": "1dd97d02-f709-45b5-9ed1-5a292fa4ffa2",
   "metadata": {},
   "outputs": [
    {
     "data": {
      "text/plain": [
       "[50, 40, 30, 20, 10]"
      ]
     },
     "execution_count": 34,
     "metadata": {},
     "output_type": "execute_result"
    }
   ],
   "source": [
    "list1 = [10, 20, 30, 40, 50]\n",
    "list1[::-1]"
   ]
  },
  {
   "cell_type": "code",
   "execution_count": 36,
   "id": "a8a0605a-7e25-4000-b133-7c7aa1780ffc",
   "metadata": {},
   "outputs": [
    {
     "data": {
      "text/plain": [
       "[30, 40, 50]"
      ]
     },
     "execution_count": 36,
     "metadata": {},
     "output_type": "execute_result"
    }
   ],
   "source": [
    "list1 = [10, 20, 30, 40, 50]\n",
    "list1[2:]"
   ]
  },
  {
   "cell_type": "raw",
   "id": "622a4e6b-8241-4e45-b7f6-f109d1dac4cf",
   "metadata": {},
   "source": [
    "5.Describe the purpose and behavior of the append() and insert() list methods. What are their differences?"
   ]
  },
  {
   "cell_type": "raw",
   "id": "849e120d-8444-4744-b032-b185b3f02ba7",
   "metadata": {},
   "source": [
    "Both append() and insert() are used to add elements to a list"
   ]
  },
  {
   "cell_type": "code",
   "execution_count": 38,
   "id": "9b86c51f-aa67-4c24-9193-1491acf24ea5",
   "metadata": {},
   "outputs": [
    {
     "data": {
      "text/plain": [
       "[23, 89, 56, 43, 88, 33]"
      ]
     },
     "execution_count": 38,
     "metadata": {},
     "output_type": "execute_result"
    }
   ],
   "source": [
    "list1=[23,89,56,43,88]\n",
    "list1.append(33)\n",
    "list1"
   ]
  },
  {
   "cell_type": "code",
   "execution_count": 40,
   "id": "59741564-1d55-49b4-8bc1-44adda474628",
   "metadata": {},
   "outputs": [
    {
     "data": {
      "text/plain": [
       "[23, 50, 89, 56, 43, 88, 33]"
      ]
     },
     "execution_count": 40,
     "metadata": {},
     "output_type": "execute_result"
    }
   ],
   "source": [
    "list1.insert(1,50)\n",
    "list1"
   ]
  },
  {
   "cell_type": "raw",
   "id": "4a2b3b00-8583-4ac9-863a-5620b0c62852",
   "metadata": {},
   "source": [
    "6.How do the remove() and pop() list methods work? What value does pop() return?\n",
    "What happens if you try to remove an element that doesn't exist?"
   ]
  },
  {
   "cell_type": "raw",
   "id": "c5ca4c7d-5d5e-4bcb-8949-9eb1e0de33d2",
   "metadata": {},
   "source": [
    "Remove:Removes the first occurrence of a specified value from the list.\n",
    "pop: Removes the element at a specific index (default is the last)."
   ]
  },
  {
   "cell_type": "code",
   "execution_count": 44,
   "id": "241a30f7-2f81-4887-ae94-0eb97804b5b0",
   "metadata": {},
   "outputs": [
    {
     "data": {
      "text/plain": [
       "[32, 45, 60, 90, 81]"
      ]
     },
     "execution_count": 44,
     "metadata": {},
     "output_type": "execute_result"
    }
   ],
   "source": [
    "list1=[32,45,45,60,90,81]\n",
    "list1.remove(45)\n",
    "list1"
   ]
  },
  {
   "cell_type": "code",
   "execution_count": 46,
   "id": "7d44c4b5-06ed-48a9-a2fc-777fb89267e6",
   "metadata": {},
   "outputs": [
    {
     "ename": "ValueError",
     "evalue": "list.remove(x): x not in list",
     "output_type": "error",
     "traceback": [
      "\u001b[0;31m---------------------------------------------------------------------------\u001b[0m",
      "\u001b[0;31mValueError\u001b[0m                                Traceback (most recent call last)",
      "Cell \u001b[0;32mIn[46], line 2\u001b[0m\n\u001b[1;32m      1\u001b[0m \u001b[38;5;66;03m# if the value doesn’t exist\u001b[39;00m\n\u001b[0;32m----> 2\u001b[0m list1\u001b[38;5;241m.\u001b[39mremove(\u001b[38;5;241m10\u001b[39m)\n\u001b[1;32m      3\u001b[0m list1\n",
      "\u001b[0;31mValueError\u001b[0m: list.remove(x): x not in list"
     ]
    }
   ],
   "source": [
    "# if the value doesn’t exist\n",
    "list1.remove(10)\n",
    "list1"
   ]
  },
  {
   "cell_type": "code",
   "execution_count": 50,
   "id": "cdd4b92c-db25-4969-9390-d48490152f62",
   "metadata": {},
   "outputs": [
    {
     "data": {
      "text/plain": [
       "60"
      ]
     },
     "execution_count": 50,
     "metadata": {},
     "output_type": "execute_result"
    }
   ],
   "source": [
    "list1.pop(2)"
   ]
  },
  {
   "cell_type": "code",
   "execution_count": 52,
   "id": "3c0afe01-0b86-4a2f-8222-f90787faa038",
   "metadata": {},
   "outputs": [
    {
     "ename": "IndexError",
     "evalue": "pop index out of range",
     "output_type": "error",
     "traceback": [
      "\u001b[0;31m---------------------------------------------------------------------------\u001b[0m",
      "\u001b[0;31mIndexError\u001b[0m                                Traceback (most recent call last)",
      "Cell \u001b[0;32mIn[52], line 2\u001b[0m\n\u001b[1;32m      1\u001b[0m \u001b[38;5;66;03m# if the index is out of range\u001b[39;00m\n\u001b[0;32m----> 2\u001b[0m list1\u001b[38;5;241m.\u001b[39mpop(\u001b[38;5;241m10\u001b[39m)\n",
      "\u001b[0;31mIndexError\u001b[0m: pop index out of range"
     ]
    }
   ],
   "source": [
    "# if the index is out of range\n",
    "list1.pop(10)"
   ]
  },
  {
   "cell_type": "raw",
   "id": "2ae216bb-1907-4df8-819e-6bd27203f1c2",
   "metadata": {},
   "source": [
    "7.What is the purpose of the index() and count() list methods?"
   ]
  },
  {
   "cell_type": "raw",
   "id": "c658cf8f-eb6d-4cff-9ab6-a1eec89fbe33",
   "metadata": {},
   "source": [
    "Both index() and count() are used to search for elements in a list, but they serve different purposes."
   ]
  },
  {
   "cell_type": "code",
   "execution_count": 58,
   "id": "20688808-0009-496c-8a8a-d67d40a34805",
   "metadata": {},
   "outputs": [
    {
     "data": {
      "text/plain": [
       "3"
      ]
     },
     "execution_count": 58,
     "metadata": {},
     "output_type": "execute_result"
    }
   ],
   "source": [
    "list1=[34,56,57,44,68,90,56]\n",
    "list1.index(44)"
   ]
  },
  {
   "cell_type": "code",
   "execution_count": 60,
   "id": "1832080f-d0b8-4f5d-b6b2-83539b16724a",
   "metadata": {},
   "outputs": [
    {
     "data": {
      "text/plain": [
       "2"
      ]
     },
     "execution_count": 60,
     "metadata": {},
     "output_type": "execute_result"
    }
   ],
   "source": [
    "list1.count(56)"
   ]
  },
  {
   "cell_type": "raw",
   "id": "a24b5057-dbe8-456a-afc7-415d7676bbb6",
   "metadata": {},
   "source": [
    "8.Explain how the sort() method works. How can you sort a list in descending order? Does sort() return a new list?"
   ]
  },
  {
   "cell_type": "raw",
   "id": "a1894946-fe3e-4d8f-8c38-5718c26ca2bd",
   "metadata": {},
   "source": [
    "The sort() method sorts the elements of a list in place.\n",
    "By default, it sorts in ascending order.Works on lists of numbers, strings, etc."
   ]
  },
  {
   "cell_type": "code",
   "execution_count": 68,
   "id": "4a9f6fe9-89ce-43c4-88ec-e90624e76826",
   "metadata": {},
   "outputs": [
    {
     "data": {
      "text/plain": [
       "[34, 45, 55, 77, 99, 100]"
      ]
     },
     "execution_count": 68,
     "metadata": {},
     "output_type": "execute_result"
    }
   ],
   "source": [
    "list1=[99,34,55,45,100,77]\n",
    "list1.sort()\n",
    "list1"
   ]
  },
  {
   "cell_type": "code",
   "execution_count": 72,
   "id": "a637928f-2e87-4e86-ae30-e1651ec854ab",
   "metadata": {},
   "outputs": [
    {
     "data": {
      "text/plain": [
       "[100, 99, 77, 55, 45, 34]"
      ]
     },
     "execution_count": 72,
     "metadata": {},
     "output_type": "execute_result"
    }
   ],
   "source": [
    "list1=[99,34,55,45,100,77]\n",
    "list1.sort(reverse=True)\n",
    "list1"
   ]
  },
  {
   "cell_type": "code",
   "execution_count": 74,
   "id": "6f97b5f8-b11e-464b-8329-ede4f86eac6e",
   "metadata": {},
   "outputs": [
    {
     "name": "stdout",
     "output_type": "stream",
     "text": [
      "None\n",
      "[1, 2, 3]\n"
     ]
    }
   ],
   "source": [
    "list1 = [3, 1, 2]\n",
    "result = list1.sort()\n",
    "print(result)    \n",
    "print(list1)    \n"
   ]
  },
  {
   "cell_type": "raw",
   "id": "c3c4f047-81aa-4f1e-81dc-9b4b29d12a3b",
   "metadata": {},
   "source": [
    "9.What does the reverse() method do to a list? Does it return a new list?"
   ]
  },
  {
   "cell_type": "raw",
   "id": "57161d32-84dd-4b84-be98-95b2ec801057",
   "metadata": {},
   "source": [
    "The reverse() method reverses the elements of a list in place.It does not sort the list, just flips the order of the elements.\n",
    "reverse() does not return a new list."
   ]
  },
  {
   "cell_type": "code",
   "execution_count": 78,
   "id": "e86559a1-fa6f-4037-9096-b76b2b235aa8",
   "metadata": {},
   "outputs": [
    {
     "data": {
      "text/plain": [
       "[77, 100, 45, 55, 34, 99]"
      ]
     },
     "execution_count": 78,
     "metadata": {},
     "output_type": "execute_result"
    }
   ],
   "source": [
    "list1=[99,34,55,45,100,77]\n",
    "list1.reverse()\n",
    "list1"
   ]
  },
  {
   "cell_type": "code",
   "execution_count": 80,
   "id": "766966ba-b193-491c-88d9-1528652da94a",
   "metadata": {},
   "outputs": [
    {
     "name": "stdout",
     "output_type": "stream",
     "text": [
      "[77, 100, 45, 55, 34, 99]\n",
      "None\n"
     ]
    }
   ],
   "source": [
    "list1=[99,34,55,45,100,77]\n",
    "re=list1.reverse()\n",
    "print(list1)\n",
    "print(re)"
   ]
  },
  {
   "cell_type": "raw",
   "id": "c024dc0f-55d7-4f17-ba63-9a74fc4e4a60",
   "metadata": {},
   "source": [
    "10.What is a nested list in Python? How do you access elements within a nested list? Provide an example"
   ]
  },
  {
   "cell_type": "raw",
   "id": "e87a218b-4145-46f1-a981-00b2d6d8e798",
   "metadata": {},
   "source": [
    "A nested list is a list inside another list.\n",
    "It allows you to create multi-dimensional structures like matrices or tables."
   ]
  },
  {
   "cell_type": "code",
   "execution_count": 82,
   "id": "bbef43cb-1b9d-43b9-ada8-7e57a1935827",
   "metadata": {},
   "outputs": [
    {
     "name": "stdout",
     "output_type": "stream",
     "text": [
      "[1, 2, 3]\n",
      "2\n",
      "7\n"
     ]
    }
   ],
   "source": [
    "nested_list = [[1, 2, 3], [4, 5, 6], [7, 8, 9]]\n",
    "print(nested_list[0])     \n",
    "print(nested_list[0][1])   \n",
    "print(nested_list[2][0])   "
   ]
  },
  {
   "cell_type": "raw",
   "id": "ece2eb02-9e99-4f05-ab48-3d3497cf731d",
   "metadata": {},
   "source": [
    "11.Explain list comprehension with its basic syntax. What are the advantages of using list comprehension over traditional for loops for list creation?"
   ]
  },
  {
   "cell_type": "raw",
   "id": "20e1dd20-d9a9-40ee-9148-16050dd28357",
   "metadata": {},
   "source": [
    "List comprehension is a concise way to create lists using a single line of code. It combines a for loop and optionally an if condition to generate a new list.\n",
    "syntax:\n",
    "[expression for item in iterable if condition]\n"
   ]
  },
  {
   "cell_type": "code",
   "execution_count": 7,
   "id": "c9cfe7e0-67cb-45ce-8ac1-80051b6b3069",
   "metadata": {},
   "outputs": [
    {
     "name": "stdout",
     "output_type": "stream",
     "text": [
      "[1, 4, 9, 16, 25]\n"
     ]
    }
   ],
   "source": [
    "squares = [i * i for i in range(1, 6)]\n",
    "print(squares)  \n"
   ]
  },
  {
   "cell_type": "code",
   "execution_count": 9,
   "id": "e2c9d693-f942-40b4-9ccc-9d942c2d9094",
   "metadata": {},
   "outputs": [
    {
     "name": "stdout",
     "output_type": "stream",
     "text": [
      "[2, 4, 6]\n"
     ]
    }
   ],
   "source": [
    "nums = [1, 2, 3, 4, 5, 6]\n",
    "evens = [x for x in nums if x % 2 == 0]\n",
    "print(evens) "
   ]
  },
  {
   "cell_type": "raw",
   "id": "35c609d9-fdad-4c34-9f39-61e7c8590303",
   "metadata": {},
   "source": [
    "#ADVANTAGES\n",
    "1. Concise\tShortens code significantly.\n",
    "2. Readable\tMore readable when used properly.\n",
    "3. Faster\tUsually faster than a traditional loop due to internal optimizations.\n",
    "4. One-liner\tReduces the need for boilerplate code.\n",
    "5. Functional Style\tEncourages a more functional and Pythonic style of coding."
   ]
  },
  {
   "cell_type": "raw",
   "id": "c1737aa6-f97e-48d7-b2c2-9718b1098afd",
   "metadata": {},
   "source": [
    "12.What is the purpose of the list() constructor? Give an example of how it can be used.\n"
   ]
  },
  {
   "cell_type": "code",
   "execution_count": null,
   "id": "dd74e1c8-249e-4621-aeba-b7ad9de04ed9",
   "metadata": {},
   "outputs": [],
   "source": [
    "The list() constructor is used to create a new list in Python. It can create:\n",
    "An empty list\n",
    "A list from any iterable (e.g., string, tuple, set, dictionary, range)\n",
    "SYNTAX:\n",
    "list([iterable])"
   ]
  },
  {
   "cell_type": "code",
   "execution_count": 11,
   "id": "60396493-01dc-4138-98f6-1b4ed71b4fe6",
   "metadata": {},
   "outputs": [
    {
     "name": "stdout",
     "output_type": "stream",
     "text": [
      "['h', 'e', 'l', 'l', 'o']\n"
     ]
    }
   ],
   "source": [
    "chars = list(\"hello\")\n",
    "print(chars) \n",
    "\n"
   ]
  },
  {
   "cell_type": "raw",
   "id": "622b6d47-a809-48f8-8681-6a8293e77619",
   "metadata": {},
   "source": [
    "13.What does the del keyword do in Python when used with lists? How can you delete elements by index or slice? How can you delete the entire list?\n"
   ]
  },
  {
   "cell_type": "raw",
   "id": "cec8c618-8baa-4b56-98b1-2d6787934e66",
   "metadata": {},
   "source": [
    "The del keyword in Python is used to delete elements from a list by index, slice, or even delete the entire list from memory."
   ]
  },
  {
   "cell_type": "code",
   "execution_count": 13,
   "id": "b60b639d-9175-484c-a1bc-988b06e6c11d",
   "metadata": {},
   "outputs": [
    {
     "name": "stdout",
     "output_type": "stream",
     "text": [
      "['apple', 'cherry', 'date']\n"
     ]
    }
   ],
   "source": [
    "fruits = [\"apple\", \"banana\", \"cherry\", \"date\"]\n",
    "del fruits[1]  \n",
    "print(fruits)  "
   ]
  },
  {
   "cell_type": "raw",
   "id": "f6136a45-0184-41f6-8f60-59f48ace6d38",
   "metadata": {},
   "source": [
    "14.What are some built-in functions that can be used with lists (e.g., len(), sum(), min(), max(), sorted())? Explain their purpose.\n"
   ]
  },
  {
   "cell_type": "code",
   "execution_count": 15,
   "id": "7d8b4830-b040-4a8b-80f1-aced9dbefa84",
   "metadata": {},
   "outputs": [],
   "source": [
    "numbers = [4, 7, 1, 3]"
   ]
  },
  {
   "cell_type": "code",
   "execution_count": 17,
   "id": "886ab2d6-6de0-4191-b1eb-78e95df7f191",
   "metadata": {},
   "outputs": [
    {
     "name": "stdout",
     "output_type": "stream",
     "text": [
      "4\n",
      "15\n",
      "1\n",
      "7\n",
      "[1, 3, 4, 7]\n"
     ]
    }
   ],
   "source": [
    "print(len(numbers))      \n",
    "print(sum(numbers))      \n",
    "print(min(numbers))     \n",
    "print(max(numbers))     \n",
    "print(sorted(numbers))   "
   ]
  },
  {
   "cell_type": "raw",
   "id": "f011cdde-253e-46a5-97bc-e4aaa9c7954f",
   "metadata": {},
   "source": [
    "1.write a programming to Reverse a list without using the reverse() method (use slicing or a loop).\n"
   ]
  },
  {
   "cell_type": "code",
   "execution_count": 35,
   "id": "f55b0d5e-bd5c-4db8-b741-37e98a73c7df",
   "metadata": {},
   "outputs": [
    {
     "data": {
      "text/plain": [
       "[50, 40, 30, 20, 10]"
      ]
     },
     "execution_count": 35,
     "metadata": {},
     "output_type": "execute_result"
    }
   ],
   "source": [
    "list1 = [10, 20, 30, 40, 50]\n",
    "reversed_list = list1[::-1]\n",
    "reversed_list"
   ]
  },
  {
   "cell_type": "raw",
   "id": "f9e4c0ba-e8ea-4ca2-8ca9-c18618976a61",
   "metadata": {},
   "source": [
    "2.Remove all occurrences of a specific element from a list.\n"
   ]
  },
  {
   "cell_type": "code",
   "execution_count": 43,
   "id": "45a52670-cee2-49a8-a4a9-bfbf2ac992fd",
   "metadata": {},
   "outputs": [
    {
     "data": {
      "text/plain": [
       "[10, 30, 40, 50]"
      ]
     },
     "execution_count": 43,
     "metadata": {},
     "output_type": "execute_result"
    }
   ],
   "source": [
    "list1 = [10, 20, 30, 40, 50,20,20]\n",
    "value=20\n",
    "while value in list1:\n",
    "    list1.remove(value)\n",
    "list1"
   ]
  },
  {
   "cell_type": "raw",
   "id": "0e28e855-a6ac-499c-a3ff-55b5aca0d8e9",
   "metadata": {},
   "source": [
    "3.write a program to Find the second largest number in a list.\n",
    " "
   ]
  },
  {
   "cell_type": "code",
   "execution_count": 45,
   "id": "1e86caa4-9732-4e96-a2db-153e242da904",
   "metadata": {},
   "outputs": [
    {
     "name": "stdout",
     "output_type": "stream",
     "text": [
      "Second largest number is: 150\n"
     ]
    }
   ],
   "source": [
    "numbers = [100, 20, 40, 150, 50, 200]\n",
    "numbers.sort(reverse=True)\n",
    "if len(numbers)>=2:\n",
    "    second_largest=numbers[1]\n",
    "    print(\"Second largest number is:\", second_largest)"
   ]
  },
  {
   "cell_type": "raw",
   "id": "bc71f466-eadc-4ea3-b726-e0cd08895dfd",
   "metadata": {},
   "source": [
    "4.⁠ ⁠Use list comprehension to create a list of all even numbers between 1 and 20 (inclusive).\n",
    " "
   ]
  },
  {
   "cell_type": "code",
   "execution_count": 47,
   "id": "65df9137-2eb8-4eef-8dac-97a7fb003a29",
   "metadata": {},
   "outputs": [
    {
     "name": "stdout",
     "output_type": "stream",
     "text": [
      "Even numbers between 1 and 20: [2, 4, 6, 8, 10, 12, 14, 16, 18, 20]\n"
     ]
    }
   ],
   "source": [
    "even_numbers = [x for x in range(1, 21) if x % 2 == 0]\n",
    "print(\"Even numbers between 1 and 20:\", even_numbers)"
   ]
  },
  {
   "cell_type": "raw",
   "id": "0fc436a3-8359-4066-a3ed-0538f2f167ac",
   "metadata": {},
   "source": [
    "5.⁠ ⁠Given a list of numbers, use list comprehension to create a new list containing only the numbers greater than 5.\n",
    " "
   ]
  },
  {
   "cell_type": "code",
   "execution_count": 49,
   "id": "30c10298-725b-433a-9772-f7ebda74f024",
   "metadata": {},
   "outputs": [
    {
     "name": "stdout",
     "output_type": "stream",
     "text": [
      "Numbers greater than 5: [6, 8, 9, 10]\n"
     ]
    }
   ],
   "source": [
    "numbers = [2, 6, 3, 8, 1, 9, 5, 10]\n",
    "greater_than_5 = [x for x in numbers if x > 5]\n",
    "print(\"Numbers greater than 5:\", greater_than_5)\n"
   ]
  },
  {
   "cell_type": "raw",
   "id": "d48eb408-5457-44fe-a153-1ff2f7b68eb8",
   "metadata": {},
   "source": [
    "6.⁠ ⁠Given a list, remove a specific range of elements (defined by start and end indices) using the del keyword and slicing.\n",
    " "
   ]
  },
  {
   "cell_type": "code",
   "execution_count": 51,
   "id": "678b9267-f462-43e0-a586-6242d18578cd",
   "metadata": {},
   "outputs": [
    {
     "name": "stdout",
     "output_type": "stream",
     "text": [
      "List after removing range: ['a', 'b', 'f', 'g']\n"
     ]
    }
   ],
   "source": [
    "list1= ['a', 'b', 'c', 'd', 'e', 'f', 'g']\n",
    "start = 2\n",
    "end = 5\n",
    "del list1[start:end]\n",
    "print(\"List after removing range:\", list1)"
   ]
  },
  {
   "cell_type": "raw",
   "id": "abfe4bdb-9cb2-414b-bee7-59d4f5e3d7ee",
   "metadata": {},
   "source": [
    "7.⁠ ⁠Given a list of words, use list comprehension to create a new list containing the length of each word.\n",
    " "
   ]
  },
  {
   "cell_type": "code",
   "execution_count": 53,
   "id": "6f24706f-0dae-45b2-bafa-649fdfd3f704",
   "metadata": {},
   "outputs": [
    {
     "name": "stdout",
     "output_type": "stream",
     "text": [
      "Lengths of words: [5, 6, 6, 4]\n"
     ]
    }
   ],
   "source": [
    "words = [\"apple\", \"banana\", \"cherry\", \"kiwi\"]\n",
    "word_lengths = [len(word) for word in words]\n",
    "print(\"Lengths of words:\", word_lengths)\n"
   ]
  },
  {
   "cell_type": "raw",
   "id": "56236028-e824-4c72-9fbc-6ae602cef70b",
   "metadata": {},
   "source": [
    "8.⁠ ⁠Write a function that takes a list and a value as input and removes all occurrences of that value from the list in-place.\n"
   ]
  },
  {
   "cell_type": "code",
   "execution_count": 55,
   "id": "38e50169-b068-4cfc-b92e-7966455c5be0",
   "metadata": {},
   "outputs": [
    {
     "name": "stdout",
     "output_type": "stream",
     "text": [
      "List after removal: [1, 3, 4, 5]\n"
     ]
    }
   ],
   "source": [
    "def remove_all_occurrences(lst, value):\n",
    "    while value in lst:\n",
    "        lst.remove(value)\n",
    "list1 = [1, 2, 3, 2, 4, 2, 5]\n",
    "remove_all_occurrences(list1, 2)\n",
    "\n",
    "print(\"List after removal:\", list1)\n"
   ]
  },
  {
   "cell_type": "raw",
   "id": "385e1e0e-bf52-418f-8c87-4360380ac0ff",
   "metadata": {},
   "source": [
    " 9.⁠ ⁠Write a program that takes a string as input, converts it into a list of characters, reverses the list, and then joins the characters back into a reversed string. Print the reversed string.\n"
   ]
  },
  {
   "cell_type": "code",
   "execution_count": 63,
   "id": "8f522bd6-3030-4d95-a6a9-7754cc0ae6a5",
   "metadata": {},
   "outputs": [
    {
     "name": "stdin",
     "output_type": "stream",
     "text": [
      "Enter a string:  hi there\n"
     ]
    },
    {
     "name": "stdout",
     "output_type": "stream",
     "text": [
      "Reversed string: ereht ih\n"
     ]
    }
   ],
   "source": [
    "text = input(\"Enter a string: \")\n",
    "char_list = list(text)\n",
    "char_list.reverse() \n",
    "reversed_text = ''.join(char_list)\n",
    "print(\"Reversed string:\", reversed_text)"
   ]
  },
  {
   "cell_type": "raw",
   "id": "606715e2-ad57-4c1c-a962-2630047644a3",
   "metadata": {},
   "source": [
    "10.⁠ ⁠Write a program that takes a sentence as input. Split the sentence into a list of words. Then, iterate through the list of words and count the total number of vowels (a, e, i, o, u - case-insensitive) in all the words combined. Print the total vowel count."
   ]
  },
  {
   "cell_type": "code",
   "execution_count": 67,
   "id": "534a0c75-df78-49c4-8807-b95811b4723f",
   "metadata": {},
   "outputs": [
    {
     "name": "stdin",
     "output_type": "stream",
     "text": [
      "Enter a sentence:  Ramu have apple\n"
     ]
    },
    {
     "name": "stdout",
     "output_type": "stream",
     "text": [
      "Total number of vowels: 6\n"
     ]
    }
   ],
   "source": [
    "sentence = input(\"Enter a sentence: \")\n",
    "words = sentence.split()\n",
    "vowels = \"aeiouAEIOU\"\n",
    "vowel_count = 0\n",
    "for word in words:\n",
    "    for char in word:\n",
    "        if char in vowels:\n",
    "            vowel_count += 1\n",
    "print(\"Total number of vowels:\", vowel_count)\n"
   ]
  },
  {
   "cell_type": "code",
   "execution_count": null,
   "id": "cea93d6e-7d1c-45be-9d83-46f6df433ec3",
   "metadata": {},
   "outputs": [],
   "source": []
  }
 ],
 "metadata": {
  "kernelspec": {
   "display_name": "Python 3 (ipykernel)",
   "language": "python",
   "name": "python3"
  },
  "language_info": {
   "codemirror_mode": {
    "name": "ipython",
    "version": 3
   },
   "file_extension": ".py",
   "mimetype": "text/x-python",
   "name": "python",
   "nbconvert_exporter": "python",
   "pygments_lexer": "ipython3",
   "version": "3.12.7"
  }
 },
 "nbformat": 4,
 "nbformat_minor": 5
}
