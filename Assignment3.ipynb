{
 "cells": [
  {
   "cell_type": "raw",
   "id": "f25d23b2-43ba-4cfc-9961-83ef5c2a8f25",
   "metadata": {},
   "source": [
    "1.What is a for loop in Python, and when would you typically use it?\n"
   ]
  },
  {
   "cell_type": "raw",
   "id": "b83f0fbe-f6e9-4a27-9349-5fd599725cf3",
   "metadata": {},
   "source": [
    ">for loop is a control flow statement used to iterate over a sequence like a string,tuple,list or range. it allows to\n",
    "execute a block of code multiple times\n",
    "syntax:\n",
    "for variable in sequence:\n",
    "    # code block to execute"
   ]
  },
  {
   "cell_type": "code",
   "execution_count": 18,
   "id": "70c88588-e319-4bcd-a2e7-332510687ad3",
   "metadata": {},
   "outputs": [
    {
     "name": "stdout",
     "output_type": "stream",
     "text": [
      "Apple\n",
      "Banana\n",
      "Orange\n",
      "Mango\n"
     ]
    }
   ],
   "source": [
    "fruits=[\"Apple\",\"Banana\",\"Orange\",\"Mango\"]\n",
    "for fruit in fruits:\n",
    "    print(fruit)"
   ]
  },
  {
   "cell_type": "code",
   "execution_count": 20,
   "id": "fedde37e-bc5d-43e0-834e-e4cdd42aa3c3",
   "metadata": {},
   "outputs": [
    {
     "name": "stdout",
     "output_type": "stream",
     "text": [
      "0\n",
      "1\n",
      "2\n",
      "3\n",
      "4\n"
     ]
    }
   ],
   "source": [
    "for i in range(5):\n",
    "    print(i)"
   ]
  },
  {
   "cell_type": "code",
   "execution_count": 22,
   "id": "61976a5d-1cc7-472c-a696-7da7321dddf8",
   "metadata": {},
   "outputs": [
    {
     "name": "stdout",
     "output_type": "stream",
     "text": [
      "h\n",
      "e\n",
      "l\n",
      "l\n",
      "o\n"
     ]
    }
   ],
   "source": [
    "for letter in \"hello\":\n",
    "    print(letter)\n"
   ]
  },
  {
   "cell_type": "raw",
   "id": "fab60eba-70a9-4442-af52-e8f168cf6fce",
   "metadata": {},
   "source": [
    "2.Explain the syntax of a basic for loop in Python.\n"
   ]
  },
  {
   "cell_type": "raw",
   "id": "ea9780a0-122d-44e4-a2df-013e5df020dc",
   "metadata": {},
   "source": [
    "syntax:\n",
    "for variable in sequence:\n",
    "    #code block to execute"
   ]
  },
  {
   "cell_type": "code",
   "execution_count": 28,
   "id": "8cf3662a-4147-4447-9777-2974dcd559f0",
   "metadata": {},
   "outputs": [
    {
     "name": "stdout",
     "output_type": "stream",
     "text": [
      "hello 0\n",
      "hello 1\n",
      "hello 2\n"
     ]
    }
   ],
   "source": [
    "for i in range(3):\n",
    "    print(\"hello\",i)\n"
   ]
  },
  {
   "cell_type": "raw",
   "id": "5d8aab9e-602e-4ce5-b9f3-33d67e4a4fad",
   "metadata": {},
   "source": [
    "3.What is an iterable? Give a few examples of built-in iterables in Python that are commonly used with for loops."
   ]
  },
  {
   "cell_type": "raw",
   "id": "f85ac8ec-92a8-46a4-8297-1362bafb9666",
   "metadata": {},
   "source": [
    ">An iterable is any Python object capable of returning its elements one at a time, allowing it to be used in a loop (like a for loop)."
   ]
  },
  {
   "cell_type": "code",
   "execution_count": 33,
   "id": "b300c5bf-5d9b-4798-b6e3-00f241ea6d32",
   "metadata": {},
   "outputs": [
    {
     "name": "stdout",
     "output_type": "stream",
     "text": [
      "Apple\n",
      "Banana\n",
      "Mango\n",
      "Orange\n"
     ]
    }
   ],
   "source": [
    "fruits=[\"Apple\",\"Banana\",\"Mango\",\"Orange\"]\n",
    "for fruit in fruits:\n",
    "    print(fruit)"
   ]
  },
  {
   "cell_type": "code",
   "execution_count": 35,
   "id": "7abca81d-2dd7-4d0e-bf45-29f00d649bf5",
   "metadata": {},
   "outputs": [
    {
     "name": "stdout",
     "output_type": "stream",
     "text": [
      "h\n",
      "i\n"
     ]
    }
   ],
   "source": [
    "for char in \"hi\":\n",
    "    print(char)"
   ]
  },
  {
   "cell_type": "raw",
   "id": "bb0fcaeb-a8ed-4c7b-adff-1bc573747ce8",
   "metadata": {},
   "source": [
    "4.How can you iterate through the characters of a string using a for loop?"
   ]
  },
  {
   "cell_type": "code",
   "execution_count": 37,
   "id": "7585c445-2683-46e3-b138-152cc24448fa",
   "metadata": {},
   "outputs": [
    {
     "name": "stdout",
     "output_type": "stream",
     "text": [
      "p\n",
      "y\n",
      "t\n",
      "h\n",
      "o\n",
      "n\n"
     ]
    }
   ],
   "source": [
    "text=\"python\"\n",
    "for letter in text:\n",
    "    print(letter)"
   ]
  },
  {
   "cell_type": "code",
   "execution_count": 41,
   "id": "b99aa6f5-a7e2-4745-baad-d8e5a50f2a4a",
   "metadata": {},
   "outputs": [
    {
     "name": "stdout",
     "output_type": "stream",
     "text": [
      "index 0:p\n",
      "index 1:y\n",
      "index 2:t\n",
      "index 3:h\n",
      "index 4:o\n",
      "index 5:n\n"
     ]
    }
   ],
   "source": [
    "text=\"python\"\n",
    "for index,char in enumerate(text):\n",
    "    print(f\"index {index}:{char}\")\n"
   ]
  },
  {
   "cell_type": "raw",
   "id": "516cee95-f484-4302-9898-a92c81b9526b",
   "metadata": {},
   "source": [
    "5.What is the purpose of the range() function when used with a for loop? Give a simple example.\n"
   ]
  },
  {
   "cell_type": "raw",
   "id": "040901d1-2473-4bcc-b2f8-d669556d0615",
   "metadata": {},
   "source": [
    "range is a function used in a for loop to generate a sequence of numbers. it allows you to repeat an action a specific numbers of times, \n",
    "or loop over a range of values\n",
    "range(stop)               # Starts from 0, goes up to (but not including) stop\n",
    "range(start, stop)        # Starts from start, up to (but not including) stop\n",
    "range(start, stop, step)  # Starts from start, steps by step, up to stop\n"
   ]
  },
  {
   "cell_type": "code",
   "execution_count": 43,
   "id": "889ad905-1b2d-4e9f-9dc3-f9e485435cf5",
   "metadata": {},
   "outputs": [
    {
     "name": "stdout",
     "output_type": "stream",
     "text": [
      "0\n",
      "1\n",
      "2\n",
      "3\n",
      "4\n"
     ]
    }
   ],
   "source": [
    "for i in range(5):\n",
    "    print(i)\n"
   ]
  },
  {
   "cell_type": "code",
   "execution_count": 45,
   "id": "24098dbc-e089-4f18-a303-cbbddb3e8d40",
   "metadata": {},
   "outputs": [
    {
     "name": "stdout",
     "output_type": "stream",
     "text": [
      "2\n",
      "3\n",
      "4\n",
      "5\n",
      "6\n",
      "7\n",
      "8\n",
      "9\n"
     ]
    }
   ],
   "source": [
    "for i in range(2,10):\n",
    "    print(i)"
   ]
  },
  {
   "cell_type": "code",
   "execution_count": 51,
   "id": "d48a95c2-fc98-400f-af4d-c036f8f3ef8d",
   "metadata": {},
   "outputs": [
    {
     "name": "stdout",
     "output_type": "stream",
     "text": [
      "2\n",
      "4\n",
      "6\n",
      "8\n",
      "10\n",
      "12\n",
      "14\n",
      "16\n",
      "18\n"
     ]
    }
   ],
   "source": [
    "for i in range(2,20,2):\n",
    "    print(i)"
   ]
  },
  {
   "cell_type": "raw",
   "id": "b513f3d2-1852-4c97-8034-e7c56726503e",
   "metadata": {},
   "source": [
    "6.Can you have a for loop inside another for loop? If so, what is this called?\n"
   ]
  },
  {
   "cell_type": "code",
   "execution_count": 53,
   "id": "cc40c242-77bb-4bba-a42b-07e805423c2d",
   "metadata": {},
   "outputs": [
    {
     "name": "stdout",
     "output_type": "stream",
     "text": [
      "* * * \n",
      "* * * \n",
      "* * * \n"
     ]
    }
   ],
   "source": [
    "for row in range(3):\n",
    "    for column in range(3):\n",
    "        print(\"*\", end=\" \")\n",
    "    print()"
   ]
  },
  {
   "cell_type": "code",
   "execution_count": 65,
   "id": "788fb9c0-3cb0-4761-beec-a48dc21fa6ce",
   "metadata": {},
   "outputs": [
    {
     "name": "stdout",
     "output_type": "stream",
     "text": [
      "(1, 1)\n",
      "(1, 2)\n",
      "(1, 3)\n",
      "(2, 1)\n",
      "(2, 2)\n",
      "(2, 3)\n",
      "(3, 1)\n",
      "(3, 2)\n",
      "(3, 3)\n"
     ]
    }
   ],
   "source": [
    "for i in range(1,4):\n",
    "    for j in range(1,4):\n",
    "        print(f\"({i}, {j})\")\n",
    "        \n",
    " \n"
   ]
  },
  {
   "cell_type": "raw",
   "id": "90e10191-f417-435a-9118-73cc0b1a9609",
   "metadata": {},
   "source": [
    "7.What is a while loop in Python, and when would you typically use it?\n"
   ]
  },
  {
   "cell_type": "raw",
   "id": "b8d468b3-91ce-4a5c-94bf-71ea8b3d2b8f",
   "metadata": {},
   "source": [
    "A while loop is a control flow statement in Python that repeats a block of code as long as a specified condition is True.\n",
    "while condition:\n",
    "    # code block to execute"
   ]
  },
  {
   "cell_type": "code",
   "execution_count": 91,
   "id": "18b36244-c7d0-465d-87da-7978cbb4bd4e",
   "metadata": {},
   "outputs": [
    {
     "name": "stdout",
     "output_type": "stream",
     "text": [
      "Count is: 1\n",
      "Count is: 2\n",
      "Count is: 3\n",
      "Count is: 4\n",
      "Count is: 5\n"
     ]
    }
   ],
   "source": [
    "count=1\n",
    "while count<=5:\n",
    "    print(\"Count is:\", count)\n",
    "    count+=1\n",
    "    "
   ]
  },
  {
   "cell_type": "raw",
   "id": "27a96e0b-bdf0-44b1-8d5e-0b7522ab2065",
   "metadata": {},
   "source": [
    "8.Explain the syntax of a basic while loop in Python. What is the condition?\n"
   ]
  },
  {
   "cell_type": "raw",
   "id": "0a86d0e7-d77e-4b86-bfe5-796d1de0c80f",
   "metadata": {},
   "source": [
    "while condition:\n",
    "    # code block to execute\n"
   ]
  },
  {
   "cell_type": "code",
   "execution_count": 1,
   "id": "768f7018-aac6-4e50-93a1-6b86091da396",
   "metadata": {},
   "outputs": [
    {
     "name": "stdout",
     "output_type": "stream",
     "text": [
      "The number is: 1\n",
      "The number is: 2\n",
      "The number is: 3\n"
     ]
    }
   ],
   "source": [
    "number=1\n",
    "while number<=3:\n",
    "    print(\"The number is:\", number)\n",
    "    number+=1"
   ]
  },
  {
   "cell_type": "raw",
   "id": "7f996b54-6bcc-4a19-9d0e-f303719bec31",
   "metadata": {},
   "source": [
    "9.What is an infinite loop? How can you accidentally create one with a while loop, and how can you prevent it?\n"
   ]
  },
  {
   "cell_type": "raw",
   "id": "7a8b6049-f64a-4661-85f5-5a559460909b",
   "metadata": {},
   "source": [
    "An infinite loop is a loop that never stops running because its condition never becomes False.\n",
    "This can cause your program to hang or crash unless you manually stop it (e.g., by pressing Ctrl+C in the terminal)."
   ]
  },
  {
   "cell_type": "raw",
   "id": "63224127-4a99-47ea-b72a-63bde4fe7986",
   "metadata": {},
   "source": [
    "10.How do the break and continue statements work within a while loop?"
   ]
  },
  {
   "cell_type": "code",
   "execution_count": 3,
   "id": "c8df53d5-9586-45b8-bfeb-3f97f9229b10",
   "metadata": {},
   "outputs": [
    {
     "name": "stdout",
     "output_type": "stream",
     "text": [
      "1\n",
      "2\n",
      "3\n",
      "4\n"
     ]
    }
   ],
   "source": [
    "i = 1\n",
    "while i <= 10:\n",
    "    if i == 5:\n",
    "        break  # Exit the loop when i is 5\n",
    "    print(i)\n",
    "    i += 1"
   ]
  },
  {
   "cell_type": "code",
   "execution_count": 5,
   "id": "82d63fbc-e616-4fbd-9de3-a447f8b4fabb",
   "metadata": {},
   "outputs": [
    {
     "name": "stdout",
     "output_type": "stream",
     "text": [
      "1\n",
      "2\n",
      "4\n",
      "5\n"
     ]
    }
   ],
   "source": [
    "i = 0\n",
    "while i < 5:\n",
    "    i += 1\n",
    "    if i == 3:\n",
    "        continue  # Skip when i is 3\n",
    "    print(i)"
   ]
  },
  {
   "cell_type": "code",
   "execution_count": null,
   "id": "38e5f83a-d8ab-4e02-94d7-7ee40377fd8c",
   "metadata": {},
   "outputs": [],
   "source": []
  }
 ],
 "metadata": {
  "kernelspec": {
   "display_name": "Python 3 (ipykernel)",
   "language": "python",
   "name": "python3"
  },
  "language_info": {
   "codemirror_mode": {
    "name": "ipython",
    "version": 3
   },
   "file_extension": ".py",
   "mimetype": "text/x-python",
   "name": "python",
   "nbconvert_exporter": "python",
   "pygments_lexer": "ipython3",
   "version": "3.12.7"
  }
 },
 "nbformat": 4,
 "nbformat_minor": 5
}
