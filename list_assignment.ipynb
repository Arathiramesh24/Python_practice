{
 "cells": [
  {
   "cell_type": "raw",
   "id": "8cbad21a-d100-4f9a-896a-9ac1da17798a",
   "metadata": {},
   "source": [
    "1.⁠ ⁠Create a list of 5 numbers. Print the first and last elements using indexing."
   ]
  },
  {
   "cell_type": "code",
   "execution_count": 2,
   "id": "b51d6df6-e40d-43e5-87a6-29cb5a9acd0b",
   "metadata": {},
   "outputs": [
    {
     "name": "stdout",
     "output_type": "stream",
     "text": [
      "First Element:  56\n"
     ]
    }
   ],
   "source": [
    "list=[56,59,45,30,31]\n",
    "print(\"First Element: \",list[0])"
   ]
  },
  {
   "cell_type": "code",
   "execution_count": 18,
   "id": "2540ea73-9f57-4e08-b3ac-42e231c0e569",
   "metadata": {},
   "outputs": [
    {
     "name": "stdout",
     "output_type": "stream",
     "text": [
      "last Element:  31\n"
     ]
    }
   ],
   "source": [
    "list=[56,59,45,30,31]\n",
    "print(\"last Element: \",list[-1])"
   ]
  },
  {
   "cell_type": "code",
   "execution_count": 20,
   "id": "80c1226e-6166-447f-b3b3-d207b81d749f",
   "metadata": {},
   "outputs": [
    {
     "data": {
      "text/plain": [
       "[31, 30, 45, 59, 56]"
      ]
     },
     "execution_count": 20,
     "metadata": {},
     "output_type": "execute_result"
    }
   ],
   "source": [
    "list[::-1]"
   ]
  },
  {
   "cell_type": "raw",
   "id": "5cf811d8-02a3-4dbe-b9c8-0bf5391815fc",
   "metadata": {},
   "source": [
    "3.⁠ ⁠Print the elements from index 1 to 3 (inclusive)."
   ]
  },
  {
   "cell_type": "code",
   "execution_count": 22,
   "id": "86ae88fe-c65b-4dd6-8a04-9f693cd9ecfc",
   "metadata": {},
   "outputs": [
    {
     "data": {
      "text/plain": [
       "[59, 45]"
      ]
     },
     "execution_count": 22,
     "metadata": {},
     "output_type": "execute_result"
    }
   ],
   "source": [
    "list[1:3]"
   ]
  },
  {
   "cell_type": "raw",
   "id": "75cfce7d-5789-4410-ad74-7624702fbef9",
   "metadata": {},
   "source": [
    "4.⁠ ⁠Find the sum of all elements in the list using a for loop."
   ]
  },
  {
   "cell_type": "code",
   "execution_count": 24,
   "id": "eddb2e86-4ee1-4e9e-8ddd-51c47caa671b",
   "metadata": {},
   "outputs": [
    {
     "name": "stdout",
     "output_type": "stream",
     "text": [
      "221\n"
     ]
    }
   ],
   "source": [
    "list1=[56,59,45,30,31]\n",
    "total=0\n",
    "for num in list1:\n",
    "    total+=num\n",
    "print(total)"
   ]
  },
  {
   "cell_type": "raw",
   "id": "874ae78a-de28-4cb1-a226-1dedbb4dea16",
   "metadata": {},
   "source": [
    "5.⁠ ⁠Count how many even numbers are present in the list."
   ]
  },
  {
   "cell_type": "code",
   "execution_count": 28,
   "id": "40f08409-7b46-4672-a16f-792ed5438e43",
   "metadata": {},
   "outputs": [
    {
     "name": "stdout",
     "output_type": "stream",
     "text": [
      "56\n",
      "80\n",
      "12\n",
      "34\n",
      "78\n",
      "42\n"
     ]
    }
   ],
   "source": [
    "numbers=[56,79,80,77,21,12,34,78,42]\n",
    "for number in numbers:\n",
    "    if number%2==0:\n",
    "        print(number)"
   ]
  },
  {
   "cell_type": "raw",
   "id": "25a7ec00-88f6-43e0-a7f7-212b0addcc2d",
   "metadata": {},
   "source": [
    "6.⁠ ⁠Print only the elements at even index positions."
   ]
  },
  {
   "cell_type": "code",
   "execution_count": 44,
   "id": "eed7dc1c-b5b1-4148-99e7-d626640cd1f2",
   "metadata": {},
   "outputs": [
    {
     "name": "stdout",
     "output_type": "stream",
     "text": [
      "56\n",
      "80\n",
      "21\n",
      "34\n",
      "42\n"
     ]
    }
   ],
   "source": [
    "numbers=[56,79,80,77,21,12,34,78,42]\n",
    "for i in range(0, len(numbers), 2):\n",
    "    print(numbers[i])"
   ]
  },
  {
   "cell_type": "raw",
   "id": "a98e6429-f2d4-477e-b251-5f14b3ade709",
   "metadata": {},
   "source": [
    "7.⁠ ⁠Create a list of 5 names. Print each name in uppercase using a for loop."
   ]
  },
  {
   "cell_type": "code",
   "execution_count": 58,
   "id": "68727306-a755-4251-9594-329ca339ab7b",
   "metadata": {},
   "outputs": [
    {
     "name": "stdout",
     "output_type": "stream",
     "text": [
      "AMMU\n",
      "ABHI\n",
      "ANU\n",
      "ACHU\n",
      "ARUN\n"
     ]
    }
   ],
   "source": [
    "names=[\"ammu\",\"abhi\",\"anu\",\"achu\",\"arun\"]\n",
    "for name in names:\n",
    "    print(name.upper())"
   ]
  },
  {
   "cell_type": "raw",
   "id": "a10d16fa-4268-4c1b-9960-2f785fb0e237",
   "metadata": {},
   "source": [
    "8.⁠ ⁠Print the length of the list using len() function."
   ]
  },
  {
   "cell_type": "code",
   "execution_count": 61,
   "id": "e1146c06-7eb6-4a34-a2d2-9e4df581fd87",
   "metadata": {},
   "outputs": [
    {
     "data": {
      "text/plain": [
       "5"
      ]
     },
     "execution_count": 61,
     "metadata": {},
     "output_type": "execute_result"
    }
   ],
   "source": [
    "len(names)"
   ]
  },
  {
   "cell_type": "raw",
   "id": "dee07bae-3a64-42b7-b662-d431cfda8c2c",
   "metadata": {},
   "source": [
    "9.⁠ ⁠Replace the 3rd element of the list with a new value."
   ]
  },
  {
   "cell_type": "code",
   "execution_count": 63,
   "id": "d4fce59b-2a51-4c54-941e-ea4a6b6d6343",
   "metadata": {},
   "outputs": [
    {
     "name": "stdout",
     "output_type": "stream",
     "text": [
      "['ammu', 'abhi', 'kukku', 'achu', 'arun']\n"
     ]
    }
   ],
   "source": [
    "names=[\"ammu\",\"abhi\",\"anu\",\"achu\",\"arun\"]\n",
    "for i in range(len(names)):\n",
    "    names[i]= names[i].replace(\"anu\", \"kukku\")\n",
    "print(names)\n",
    "    "
   ]
  },
  {
   "cell_type": "code",
   "execution_count": null,
   "id": "ca6547bf-176d-4b1e-a4a6-e0d6923aa4df",
   "metadata": {},
   "outputs": [],
   "source": []
  }
 ],
 "metadata": {
  "kernelspec": {
   "display_name": "Python 3 (ipykernel)",
   "language": "python",
   "name": "python3"
  },
  "language_info": {
   "codemirror_mode": {
    "name": "ipython",
    "version": 3
   },
   "file_extension": ".py",
   "mimetype": "text/x-python",
   "name": "python",
   "nbconvert_exporter": "python",
   "pygments_lexer": "ipython3",
   "version": "3.12.7"
  }
 },
 "nbformat": 4,
 "nbformat_minor": 5
}
