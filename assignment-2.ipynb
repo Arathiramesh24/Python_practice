{
 "cells": [
  {
   "cell_type": "markdown",
   "id": "a9b28828-d900-4f97-bdd0-df7152f29729",
   "metadata": {},
   "source": [
    "1. Write a Python program that takes a string as input and prints its length."
   ]
  },
  {
   "cell_type": "code",
   "execution_count": 6,
   "id": "8cb5d925-afd1-44d5-965f-c2a23d8a3c9a",
   "metadata": {},
   "outputs": [
    {
     "name": "stdin",
     "output_type": "stream",
     "text": [
      "Enter a text Hello world\n"
     ]
    },
    {
     "name": "stdout",
     "output_type": "stream",
     "text": [
      "The length of the string is:\t 11\n"
     ]
    }
   ],
   "source": [
    "text=input(\"Enter a text\")\n",
    "length=len(text)\n",
    "print(\"The length of the string is:\\t\",length)"
   ]
  },
  {
   "cell_type": "raw",
   "id": "35de9ebd-b159-4592-87ff-9e7ecc8b624e",
   "metadata": {},
   "source": [
    "2.Question: Given the string data = \"abcdefghijklmnop\", write Python code to:\n",
    "A. Get the first 5 characters.\n",
    "B. Get the last 3 characters.\n",
    "C. Get characters from index 2 to 7 (inclusive of 2, exclusive of 8).\n",
    "D. Get every second character.\n",
    "E. Reverse the string."
   ]
  },
  {
   "cell_type": "code",
   "execution_count": 34,
   "id": "6068ae81-4e93-4d8c-a511-625e6dd29e07",
   "metadata": {},
   "outputs": [
    {
     "name": "stdout",
     "output_type": "stream",
     "text": [
      "first 5 characters:  abcde\n"
     ]
    }
   ],
   "source": [
    "data = \"abcdefghijklmnop\"\n",
    "first_five = data[:5]\n",
    "print(\"first 5 characters: \", first_five)"
   ]
  },
  {
   "cell_type": "code",
   "execution_count": 14,
   "id": "a8543fe9-aef8-42ee-8931-2eb3436dda79",
   "metadata": {},
   "outputs": [
    {
     "name": "stdout",
     "output_type": "stream",
     "text": [
      "first last 3 characters:  nop\n"
     ]
    }
   ],
   "source": [
    "data = \"abcdefghijklmnop\"\n",
    "last_three = data[-3:]\n",
    "print(\"first last 3 characters: \", last_three)"
   ]
  },
  {
   "cell_type": "code",
   "execution_count": 16,
   "id": "cedc7abc-1705-47bd-b302-6395c9b2aa21",
   "metadata": {},
   "outputs": [
    {
     "name": "stdout",
     "output_type": "stream",
     "text": [
      "characters from index 2 to 7:  cdefgh\n"
     ]
    }
   ],
   "source": [
    "data = \"abcdefghijklmnop\"\n",
    "two_seven = data[2:8]\n",
    "print(\"characters from index 2 to 7: \", two_seven)"
   ]
  },
  {
   "cell_type": "code",
   "execution_count": 18,
   "id": "77124415-f620-4090-8eee-b51f5c478989",
   "metadata": {},
   "outputs": [
    {
     "name": "stdout",
     "output_type": "stream",
     "text": [
      "every second character:  acegikmo\n"
     ]
    }
   ],
   "source": [
    "data = \"abcdefghijklmnop\"\n",
    "sec_char = data[::2]\n",
    "print(\"every second character: \", sec_char)"
   ]
  },
  {
   "cell_type": "code",
   "execution_count": 20,
   "id": "f40731e8-40ff-4ae0-8c8d-f1a620878958",
   "metadata": {},
   "outputs": [
    {
     "name": "stdout",
     "output_type": "stream",
     "text": [
      "Reverse the string:  ponmlkjihgfedcba\n"
     ]
    }
   ],
   "source": [
    "data = \"abcdefghijklmnop\"\n",
    "reverse = data[::-1]\n",
    "print(\"Reverse the string: \", reverse)"
   ]
  },
  {
   "cell_type": "markdown",
   "id": "3bb3d5ec-6d30-46df-aa43-46f4b4651d1e",
   "metadata": {},
   "source": [
    "Question: If you have a string sentence = \"This is a long sentence.\", how would you extract the word \"long\" using slicing?\n"
   ]
  },
  {
   "cell_type": "code",
   "execution_count": 24,
   "id": "616d6ccb-404e-4fb5-b715-9f6e3027fa00",
   "metadata": {},
   "outputs": [
    {
     "name": "stdout",
     "output_type": "stream",
     "text": [
      "long\n"
     ]
    }
   ],
   "source": [
    "sentence = \"This is a long sentence.\"\n",
    "word = sentence[10:14]\n",
    "print(word)"
   ]
  },
  {
   "cell_type": "raw",
   "id": "d54b767a-9ea9-471a-940a-e4f2c35dc5e8",
   "metadata": {},
   "source": [
    "4.Write a Python program that takes a string as input and prints each character of the string on a new line using a for loop."
   ]
  },
  {
   "cell_type": "code",
   "execution_count": 26,
   "id": "adddc4aa-894d-421e-bcce-17c5b76c1573",
   "metadata": {},
   "outputs": [
    {
     "name": "stdin",
     "output_type": "stream",
     "text": [
      " Enter a word hello\n"
     ]
    },
    {
     "name": "stdout",
     "output_type": "stream",
     "text": [
      "h\n",
      "e\n",
      "l\n",
      "l\n",
      "o\n"
     ]
    }
   ],
   "source": [
    "string = input(\" Enter a word\")\n",
    "for char in string:\n",
    "    print(char)"
   ]
  },
  {
   "cell_type": "raw",
   "id": "e2f17e4e-c0c9-42ce-a03d-a01830d6f898",
   "metadata": {},
   "source": [
    "5.print the index of each character alongside the character."
   ]
  },
  {
   "cell_type": "code",
   "execution_count": 30,
   "id": "b33fe7df-27e1-42e9-afac-76f8028f8fea",
   "metadata": {},
   "outputs": [
    {
     "name": "stdin",
     "output_type": "stream",
     "text": [
      "Enter a word hi there\n"
     ]
    },
    {
     "name": "stdout",
     "output_type": "stream",
     "text": [
      "index 0:h\n",
      "index 1:i\n",
      "index 2: \n",
      "index 3:t\n",
      "index 4:h\n",
      "index 5:e\n",
      "index 6:r\n",
      "index 7:e\n"
     ]
    }
   ],
   "source": [
    "string= input(\"Enter a word\")\n",
    "for index, char in enumerate(string):\n",
    "    print(f\"index {index}:{char}\")"
   ]
  },
  {
   "cell_type": "raw",
   "id": "2795d2f0-40e6-413c-a102-90e0755d9f3d",
   "metadata": {},
   "source": [
    "6.You have the variables product = \"Laptop\" and price = 60,000. Use an f-string to print the following sentence: \"The Laptop costs 60,000.\""
   ]
  },
  {
   "cell_type": "code",
   "execution_count": 40,
   "id": "972e80aa-6eb8-4e8e-902c-a6c2cd78970b",
   "metadata": {},
   "outputs": [
    {
     "name": "stdout",
     "output_type": "stream",
     "text": [
      "The Laptop costs 60,000.\n"
     ]
    }
   ],
   "source": [
    "product=\"Laptop\"\n",
    "price=\"60,000\"\n",
    "print(f\"The {product} costs {price}.\")"
   ]
  },
  {
   "cell_type": "markdown",
   "id": "8fed242a-eb02-4f6c-acbf-566ac38144cd",
   "metadata": {},
   "source": [
    "7.Given the variables name = \"vikas\" and score = 85, use an f-string to print: \"vikas's score is 85.\""
   ]
  },
  {
   "cell_type": "code",
   "execution_count": 47,
   "id": "b23939ee-922b-4b1e-9dba-c1705b03503a",
   "metadata": {},
   "outputs": [
    {
     "name": "stdout",
     "output_type": "stream",
     "text": [
      "vikas's score is 85\n"
     ]
    }
   ],
   "source": [
    "name=\"vikas\"\n",
    "score=85\n",
    "print(f\"{name}'s score is {score}\")"
   ]
  },
  {
   "cell_type": "raw",
   "id": "c1995ecc-7d79-4724-9927-2fe6aa583d6c",
   "metadata": {},
   "source": [
    "8.Using the .format() method, create the same output as in Question 6: \"The Laptop costs 60,000.\""
   ]
  },
  {
   "cell_type": "code",
   "execution_count": 49,
   "id": "d878f369-6525-45bf-9a42-0386749e3f30",
   "metadata": {},
   "outputs": [
    {
     "name": "stdout",
     "output_type": "stream",
     "text": [
      "The Laptop costs 60,000.\n"
     ]
    }
   ],
   "source": [
    "product=\"Laptop\"\n",
    "price=\"60,000\"\n",
    "print(\"The {} costs {}.\".format(product, price))"
   ]
  },
  {
   "cell_type": "raw",
   "id": "b8fd5cfa-f5dd-4235-8777-110095a2b0e4",
   "metadata": {},
   "source": [
    "9.Write a Python program that takes a string as input and uses the enumerate() function to print each character along with its index."
   ]
  },
  {
   "cell_type": "code",
   "execution_count": 57,
   "id": "d979ca0e-056b-4bb8-9275-5688a036948e",
   "metadata": {},
   "outputs": [
    {
     "name": "stdin",
     "output_type": "stream",
     "text": [
      "Enter a string hiiii there\n"
     ]
    },
    {
     "name": "stdout",
     "output_type": "stream",
     "text": [
      " index 0:h\n",
      " index 1:i\n",
      " index 2:i\n",
      " index 3:i\n",
      " index 4:i\n",
      " index 5: \n",
      " index 6:t\n",
      " index 7:h\n",
      " index 8:e\n",
      " index 9:r\n",
      " index 10:e\n"
     ]
    }
   ],
   "source": [
    "string=input(\"Enter a string\")\n",
    "for index, char in enumerate(string):\n",
    "    print(f\" index {index}:{char}\")"
   ]
  },
  {
   "cell_type": "raw",
   "id": "a3d18629-16c3-426a-b595-43933a9ce5fd",
   "metadata": {},
   "source": [
    "10.Write a Python program that takes a string as input and uses the range() function along with a for loop to print each character of the string in reverse order of their index."
   ]
  },
  {
   "cell_type": "code",
   "execution_count": 7,
   "id": "f44e05d0-c5e6-4d59-b59b-98d800a3fb12",
   "metadata": {},
   "outputs": [
    {
     "name": "stdin",
     "output_type": "stream",
     "text": [
      "Enter a string:  who are you?\n"
     ]
    },
    {
     "name": "stdout",
     "output_type": "stream",
     "text": [
      "Index 11: ?\n",
      "Index 10: u\n",
      "Index 9: o\n",
      "Index 8: y\n",
      "Index 7:  \n",
      "Index 6: e\n",
      "Index 5: r\n",
      "Index 4: a\n",
      "Index 3:  \n",
      "Index 2: o\n",
      "Index 1: h\n",
      "Index 0: w\n"
     ]
    }
   ],
   "source": [
    "string = input(\"Enter a string: \")\n",
    "for i in range(len(string) - 1, -1, -1):\n",
    "    print(f\"Index {i}: {string[i]}\")\n"
   ]
  },
  {
   "cell_type": "code",
   "execution_count": null,
   "id": "41b6df58-6728-4a60-9dc7-eb4cf6bb0824",
   "metadata": {},
   "outputs": [],
   "source": []
  }
 ],
 "metadata": {
  "kernelspec": {
   "display_name": "Python 3 (ipykernel)",
   "language": "python",
   "name": "python3"
  },
  "language_info": {
   "codemirror_mode": {
    "name": "ipython",
    "version": 3
   },
   "file_extension": ".py",
   "mimetype": "text/x-python",
   "name": "python",
   "nbconvert_exporter": "python",
   "pygments_lexer": "ipython3",
   "version": "3.12.7"
  }
 },
 "nbformat": 4,
 "nbformat_minor": 5
}
