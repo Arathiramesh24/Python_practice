{
 "cells": [
  {
   "cell_type": "raw",
   "id": "ed6590a9-7929-41d7-9f90-ea5f20388221",
   "metadata": {},
   "source": [
    "1.⁠ ⁠What is a set in Python? How does it differ from a list and a tuple? What are its key properties?"
   ]
  },
  {
   "cell_type": "raw",
   "id": "d0eaaa50-d481-4cd3-bde6-ea2a7c2e1832",
   "metadata": {},
   "source": [
    ">>a set is an unordered collection of unique elements.\n",
    ">>not allowed duplicates\n",
    ">>mutable\n",
    ">>dont support indexing\n",
    "syntax:\n",
    "{123} or set()\n",
    "while list and tuple are ordered and allow duplicates, support indexing"
   ]
  },
  {
   "cell_type": "code",
   "execution_count": 20,
   "id": "13368bcc-c6d0-4279-9c7a-cf9cdb3dd333",
   "metadata": {},
   "outputs": [],
   "source": [
    "set1={1,2,3}\n",
    "set2=set([2,4,5])"
   ]
  },
  {
   "cell_type": "code",
   "execution_count": 28,
   "id": "2523fa87-92ae-42ef-a027-c306965cc83f",
   "metadata": {},
   "outputs": [
    {
     "name": "stdout",
     "output_type": "stream",
     "text": [
      "{1, 2, 4, 6}\n",
      "False\n",
      "{1, 4, 6, 7}\n"
     ]
    }
   ],
   "source": [
    "num={1,2,4,6}\n",
    "print(num)\n",
    "num.add(7)\n",
    "num.remove(2)\n",
    "print(3 in num)\n",
    "print(num)"
   ]
  },
  {
   "cell_type": "raw",
   "id": "be7c73ce-b018-4362-9f15-3d0389d72949",
   "metadata": {},
   "source": [
    " 2.⁠ ⁠What is a frozenset? How does it differ from a regular set? When might you use a frozenset?\n"
   ]
  },
  {
   "cell_type": "raw",
   "id": "62f6fbba-2cc8-4817-b15a-b4ef21eea704",
   "metadata": {},
   "source": [
    "A frozenset in Python is basically a set that cannot be changed — it’s immutable.\n",
    "It’s created using the frozenset() constructor.\n",
    "Just like a set, it stores unique, unordered elements.\n",
    "unlike set it is immutable, hashable(can be used as a dict key or in another set)\n",
    "when to use?\n",
    ">You need an immutable collection of unique values (e.g., constants that should never change).\n",
    ">you want to use it as a dictionary key or put it inside another set.\n",
    ">You want to ensure data safety so the set’s contents can’t be accidentally modified."
   ]
  },
  {
   "cell_type": "code",
   "execution_count": 32,
   "id": "a82b3182-98cd-40b6-b7a8-c45b96612d6a",
   "metadata": {},
   "outputs": [
    {
     "name": "stdout",
     "output_type": "stream",
     "text": [
      "frozenset({1, 2, 3, 5})\n"
     ]
    }
   ],
   "source": [
    "fs=frozenset([1,3,5,2])\n",
    "print(fs)"
   ]
  },
  {
   "cell_type": "raw",
   "id": "f7c581b8-c9a8-4c93-80e1-f293436a6ae6",
   "metadata": {},
   "source": [
    " 3.⁠ ⁠Can you have mutable data types as elements of a set? Why or why not? What about frozensets?\n",
    " "
   ]
  },
  {
   "cell_type": "raw",
   "id": "1e9e3c27-9c88-4f62-814c-200fcdf4df41",
   "metadata": {},
   "source": [
    "you can’t have mutable data types as elements of a set\n",
    "Mutable objects (like lists, dictionaries, other sets) are not hashable because their contents can change, which would break the way Python stores and retrieves them in a set.\n",
    "You can put a frozenset inside a set because it’s immutable and hashable.\n",
    "You cannot put a regular set inside another set because it’s mutable.\n"
   ]
  },
  {
   "cell_type": "code",
   "execution_count": 36,
   "id": "96f874cc-98cb-4ff8-880e-07b71063d45b",
   "metadata": {},
   "outputs": [
    {
     "ename": "TypeError",
     "evalue": "unhashable type: 'list'",
     "output_type": "error",
     "traceback": [
      "\u001b[0;31m---------------------------------------------------------------------------\u001b[0m",
      "\u001b[0;31mTypeError\u001b[0m                                 Traceback (most recent call last)",
      "Cell \u001b[0;32mIn[36], line 1\u001b[0m\n\u001b[0;32m----> 1\u001b[0m set1\u001b[38;5;241m=\u001b[39m{[\u001b[38;5;241m1\u001b[39m,\u001b[38;5;241m2\u001b[39m,\u001b[38;5;241m3\u001b[39m]}\n",
      "\u001b[0;31mTypeError\u001b[0m: unhashable type: 'list'"
     ]
    }
   ],
   "source": [
    "set1={[1,2,3]}"
   ]
  },
  {
   "cell_type": "code",
   "execution_count": 40,
   "id": "a3b29313-308b-4efe-948a-3076da12adb7",
   "metadata": {},
   "outputs": [
    {
     "name": "stdout",
     "output_type": "stream",
     "text": [
      "{(1, 2, 3)}\n"
     ]
    }
   ],
   "source": [
    "set1={(1,2,3)}\n",
    "print(set1)"
   ]
  },
  {
   "cell_type": "code",
   "execution_count": 42,
   "id": "a05c1527-25ea-47da-877d-4ab33bd47896",
   "metadata": {},
   "outputs": [
    {
     "name": "stdout",
     "output_type": "stream",
     "text": [
      "{frozenset({1, 2, 3})}\n"
     ]
    }
   ],
   "source": [
    "set1={frozenset([1,2,3])}\n",
    "print(set1)"
   ]
  },
  {
   "cell_type": "raw",
   "id": "1e9a803d-4150-4e0c-aad7-d792c9344711",
   "metadata": {},
   "source": [
    "You can put a frozenset inside a set because it’s immutable and hashable.\n",
    "You cannot put a regular set inside another set because it’s mutable."
   ]
  },
  {
   "cell_type": "raw",
   "id": "33c2262e-fc20-4efd-93af-93f0798f8bc7",
   "metadata": {},
   "source": [
    "4.⁠ ⁠Explain the purpose and usage of the split() method for strings. Provide an example.\n"
   ]
  },
  {
   "cell_type": "raw",
   "id": "b972d172-28b2-4b76-81ab-dee1b3d1d48f",
   "metadata": {},
   "source": [
    "The split() method in Python is used to break a string into a list of substrings based on a specified separator.\n",
    "To divide a string into smaller pieces (tokens) for processing.\n",
    "Commonly used when parsing text, reading CSV data, or processing user input.\n",
    "syntax:\n",
    "string.split(separator, maxsplit)\n"
   ]
  },
  {
   "cell_type": "code",
   "execution_count": 44,
   "id": "740408ff-8033-462e-a9ce-28879e86b550",
   "metadata": {},
   "outputs": [
    {
     "name": "stdout",
     "output_type": "stream",
     "text": [
      "['Python', 'is', 'fun']\n"
     ]
    }
   ],
   "source": [
    "#default, using white space\n",
    "string1=\"Python is fun\"\n",
    "word=string1.split()\n",
    "print(word)"
   ]
  },
  {
   "cell_type": "code",
   "execution_count": 46,
   "id": "181e3cdb-42e5-47b1-8cd4-372a6ec5075f",
   "metadata": {},
   "outputs": [
    {
     "name": "stdout",
     "output_type": "stream",
     "text": [
      "Apple,Banana,Grapes\n",
      "['Apple', 'Banana', 'Grapes']\n"
     ]
    }
   ],
   "source": [
    "#using specific saperator\n",
    "data=\"Apple,Banana,Grapes\"\n",
    "print(data)\n",
    "word=data.split(\",\")\n",
    "print(word)"
   ]
  },
  {
   "cell_type": "code",
   "execution_count": 52,
   "id": "0c6f197d-ce44-4b38-ad2d-bdb6a92cd257",
   "metadata": {},
   "outputs": [
    {
     "name": "stdout",
     "output_type": "stream",
     "text": [
      "How are you anu?\n",
      "['How', 'are you anu?']\n"
     ]
    }
   ],
   "source": [
    "#maxsplit\n",
    "sentence= \"How are you anu?\"\n",
    "print(sentence)\n",
    "split1=sentence.split(\" \", 1)\n",
    "print(split1)\n"
   ]
  },
  {
   "cell_type": "raw",
   "id": "7116c2e4-5745-45b0-9985-fca07437a993",
   "metadata": {},
   "source": [
    " 5.⁠ ⁠Explain the purpose and usage of the join() method for strings. Provide an example.\n",
    " "
   ]
  },
  {
   "cell_type": "raw",
   "id": "34663ea4-e0ed-41d3-928e-40945c708506",
   "metadata": {},
   "source": [
    "The join() method in Python is used to combine elements of an iterable (like a list or tuple) into a single string, with a specified separator between them.\n",
    "To join multiple strings together efficiently.\n",
    "Useful for creating CSV lines, formatting output, or rebuilding strings after splitting them.\n",
    "syntax:\n",
    "separator.join(iterable)\n"
   ]
  },
  {
   "cell_type": "code",
   "execution_count": 56,
   "id": "6bcb2d24-6c06-401e-a4f5-dda08a4f7a06",
   "metadata": {},
   "outputs": [
    {
     "name": "stdout",
     "output_type": "stream",
     "text": [
      "['python', 'is', 'fun']\n",
      "python is fun\n"
     ]
    }
   ],
   "source": [
    "#joining whitespace\n",
    "words=['python','is','fun']\n",
    "print(words)\n",
    "sentence=\" \".join(words)\n",
    "print(sentence)"
   ]
  },
  {
   "cell_type": "code",
   "execution_count": 58,
   "id": "814bd0fe-1d52-42e6-88c9-1b1cfbef920b",
   "metadata": {},
   "outputs": [
    {
     "name": "stdout",
     "output_type": "stream",
     "text": [
      "['apple', 'banana', 'grape']\n",
      "apple,banana,grape\n"
     ]
    }
   ],
   "source": [
    "#joinning with comma\n",
    "fruits=['apple','banana','grape']\n",
    "print(fruits)\n",
    "fruit=\",\".join(fruits)\n",
    "print(fruit)"
   ]
  },
  {
   "cell_type": "code",
   "execution_count": 62,
   "id": "4fba6742-9881-417d-8470-7d8f1f73dc3a",
   "metadata": {},
   "outputs": [
    {
     "name": "stdout",
     "output_type": "stream",
     "text": [
      "One two three\n",
      "['One', 'two', 'three']\n",
      "One two three\n"
     ]
    }
   ],
   "source": [
    "#joining after splitting\n",
    "text=\"One two three\"\n",
    "print(text)\n",
    "parts=text.split()\n",
    "print(parts)\n",
    "joined=\" \".join(parts)\n",
    "print(joined)"
   ]
  },
  {
   "cell_type": "raw",
   "id": "6f90dfbb-0e1e-4a99-9fb6-576b001ae4a4",
   "metadata": {},
   "source": [
    "6.⁠ ⁠What is a dictionary in Python? How does it store data? What are the key properties of a dictionary?\n",
    " "
   ]
  },
  {
   "cell_type": "raw",
   "id": "891b7acf-3b60-4e11-bd76-53820c69d713",
   "metadata": {},
   "source": [
    "A dictionary in Python is a mutable, unordered collection of key–value pairs used to store and retrieve data efficiently.\n",
    "The dictionary stores:\n",
    "The key’s hash value.\n",
    "The actual key (to handle hash collisions).\n",
    "The value associated with the key.\n",
    "properties:\n",
    "Key–Value Structure → Each key maps to exactly one value.\n",
    "Unordered \n",
    "Mutable → You can add, modify, and remove items.\n",
    "Unique Keys → Duplicate keys are not allowed (last one entered will overwrite previous).\n",
    "Fast Lookups → Optimized for quick access via keys.\n",
    "Keys Must Be Immutable → e.g., strings, numbers, tuples; mutable types like lists can’t be keys.\n"
   ]
  },
  {
   "cell_type": "code",
   "execution_count": 72,
   "id": "c82a2bd8-0085-47c1-9df4-82efef6b1281",
   "metadata": {},
   "outputs": [
    {
     "name": "stdout",
     "output_type": "stream",
     "text": [
      "{'name': 'John', 'Age': 26}\n"
     ]
    }
   ],
   "source": [
    "person={\"name\":\"John\", \"Age\":24}\n",
    "#adding\n",
    "person['city']='Newyork'\n",
    "#modifing\n",
    "person['Age']=26\n",
    "#removing\n",
    "del person['city']\n",
    "print(person)"
   ]
  },
  {
   "cell_type": "raw",
   "id": "10897313-30e0-4437-9d06-1573e99cf0c1",
   "metadata": {},
   "source": [
    "7.⁠ ⁠What are the requirements for keys in a Python dictionary? Why are these requirements in place? Can you use a list as a key?\n"
   ]
  },
  {
   "cell_type": "raw",
   "id": "7591eabe-bd55-4205-bdd5-2f8d4b618d41",
   "metadata": {},
   "source": [
    "Immutable → The key’s value cannot change after creation.\n",
    "Hashable → The key must have a fixed hash value throughout its lifetime.\n",
    "Dictionaries use hash tables internally.\n",
    ">>A hash table stores data using the hash value of the key.\n",
    ">>If the key could change after being added, its hash would also change — Python wouldn’t be able to find the value again.\n",
    ">>Immutable + hashable keys ensure consistent, reliable lookups.\n",
    "we cant use a list as key because lists are mutable and unhashable, so Python will raise an error."
   ]
  },
  {
   "cell_type": "code",
   "execution_count": 74,
   "id": "d4c9b94f-45a7-4e37-b15e-bcb229cb3c48",
   "metadata": {},
   "outputs": [
    {
     "ename": "TypeError",
     "evalue": "unhashable type: 'list'",
     "output_type": "error",
     "traceback": [
      "\u001b[0;31m---------------------------------------------------------------------------\u001b[0m",
      "\u001b[0;31mTypeError\u001b[0m                                 Traceback (most recent call last)",
      "Cell \u001b[0;32mIn[74], line 1\u001b[0m\n\u001b[0;32m----> 1\u001b[0m my_dict \u001b[38;5;241m=\u001b[39m {[\u001b[38;5;241m1\u001b[39m, \u001b[38;5;241m2\u001b[39m, \u001b[38;5;241m3\u001b[39m]: \u001b[38;5;124m\"\u001b[39m\u001b[38;5;124mnumbers\u001b[39m\u001b[38;5;124m\"\u001b[39m}\n",
      "\u001b[0;31mTypeError\u001b[0m: unhashable type: 'list'"
     ]
    }
   ],
   "source": [
    "my_dict = {[1, 2, 3]: \"numbers\"}"
   ]
  },
  {
   "cell_type": "code",
   "execution_count": 76,
   "id": "134e12cb-eb40-4e8d-8ba2-fa040fe26a05",
   "metadata": {},
   "outputs": [
    {
     "name": "stdout",
     "output_type": "stream",
     "text": [
      "{(1, 2, 3): 'numbers'}\n"
     ]
    }
   ],
   "source": [
    "my_dict = {(1, 2, 3): \"numbers\"}\n",
    "print(my_dict)"
   ]
  },
  {
   "cell_type": "raw",
   "id": "1d6a6f04-3f91-44d4-a99a-f6226feba21c",
   "metadata": {},
   "source": [
    "8.⁠ ⁠Create two sets, set1 with elements [1, 2, 3, 4, 5] and set2 with elements [4, 5, 6, 7, 8]. Convert these lists to sets.\n",
    " "
   ]
  },
  {
   "cell_type": "code",
   "execution_count": 84,
   "id": "075565a5-ea90-4427-852c-6444f31617fd",
   "metadata": {},
   "outputs": [
    {
     "name": "stdout",
     "output_type": "stream",
     "text": [
      "{1, 2, 3, 4, 5}\n",
      "{4, 5, 6, 7, 8}\n"
     ]
    }
   ],
   "source": [
    "list1=[1, 2, 3, 4, 5]\n",
    "list2=[4, 5, 6, 7, 8]\n",
    "set1=set(list1)\n",
    "set2=set(list2)\n",
    "print(set1)\n",
    "print(set2)"
   ]
  },
  {
   "cell_type": "raw",
   "id": "0e512f4b-0469-4b6f-aa67-6b5a65795745",
   "metadata": {},
   "source": [
    " 9.⁠ ⁠Find and print the common elements between set1 and set2 created in the previous question.\n"
   ]
  },
  {
   "cell_type": "code",
   "execution_count": 90,
   "id": "8d3e4656-8159-4a3c-9fbb-fc22d1d4ec58",
   "metadata": {},
   "outputs": [
    {
     "name": "stdout",
     "output_type": "stream",
     "text": [
      "{4, 5}\n"
     ]
    }
   ],
   "source": [
    "set1={1, 2, 3, 4, 5}\n",
    "set2={4, 5, 6, 7, 8}\n",
    "common=set1&set2\n",
    "print(common)"
   ]
  },
  {
   "cell_type": "raw",
   "id": "d656979c-9132-46d6-bb64-f5dfc258a926",
   "metadata": {},
   "source": [
    "10.⁠ ⁠Write a program that takes a sentence as input, splits it into words, and then prints the unique words in the sentence.\n"
   ]
  },
  {
   "cell_type": "code",
   "execution_count": 104,
   "id": "dc0070e8-03d8-4606-802d-853abdaac600",
   "metadata": {},
   "outputs": [
    {
     "name": "stdin",
     "output_type": "stream",
     "text": [
      "Enter a sentence:  yellow flowers are real flowers\n"
     ]
    },
    {
     "name": "stdout",
     "output_type": "stream",
     "text": [
      "real\n",
      "are\n",
      "flowers\n",
      "yellow\n"
     ]
    }
   ],
   "source": [
    "sentence=input(\"Enter a sentence: \")\n",
    "words=sentence.split()\n",
    "unique_words=set(words)\n",
    "for word in unique_words:\n",
    "    print(word)\n",
    "    \n",
    "    \n"
   ]
  },
  {
   "cell_type": "raw",
   "id": "e80d896f-b40e-40a6-aa80-52038188756f",
   "metadata": {},
   "source": [
    "11.⁠ ⁠You have a list of words: [\"Hello\", \"World\", \"Python\"]. Use the join() method to create a single string with these words separated by a hyphen \"-\".\n"
   ]
  },
  {
   "cell_type": "code",
   "execution_count": 106,
   "id": "54541975-bcf2-4b39-925d-40ffa613d5dc",
   "metadata": {},
   "outputs": [
    {
     "data": {
      "text/plain": [
       "'Hello-World-Python'"
      ]
     },
     "execution_count": 106,
     "metadata": {},
     "output_type": "execute_result"
    }
   ],
   "source": [
    "words=[\"Hello\", \"World\", \"Python\"]\n",
    "\"-\".join(words)"
   ]
  },
  {
   "cell_type": "raw",
   "id": "6073fc1b-bf80-4ce0-b290-36b51f54d726",
   "metadata": {},
   "source": [
    "12.⁠ ⁠Create a dictionary that stores the capital cities of three countries (e.g., \"USA\": \"Washington D.C.\", \"France\": \"Paris\", \"Japan\": \"Tokyo\").\n"
   ]
  },
  {
   "cell_type": "code",
   "execution_count": 110,
   "id": "4394dc6e-b721-44fa-be0b-5f29bc0b5db7",
   "metadata": {},
   "outputs": [
    {
     "name": "stdout",
     "output_type": "stream",
     "text": [
      "{'USA': 'Washington D.C.', 'France': 'Paris', 'Japan': 'Tokyo'}\n"
     ]
    }
   ],
   "source": [
    "capitals={\"USA\": \"Washington D.C.\", \"France\": \"Paris\", \"Japan\": \"Tokyo\"}\n",
    "print(capitals)"
   ]
  },
  {
   "cell_type": "raw",
   "id": "d7f0dd31-eec7-47a1-94d7-88385c5b0a19",
   "metadata": {},
   "source": [
    "13.⁠ ⁠Given the dictionary from the previous question, ask the user to enter a country and print its capital city. Handle the case where the country is not in the dictionary."
   ]
  },
  {
   "cell_type": "code",
   "execution_count": 122,
   "id": "86e8463f-08ea-40d0-9e09-26188f9a85ab",
   "metadata": {},
   "outputs": [
    {
     "name": "stdin",
     "output_type": "stream",
     "text": [
      "Enter a country USA\n"
     ]
    },
    {
     "name": "stdout",
     "output_type": "stream",
     "text": [
      "USA:Washington D.C.\n"
     ]
    }
   ],
   "source": [
    "capitals={\"USA\": \"Washington D.C.\", \"France\": \"Paris\", \"Japan\": \"Tokyo\"}\n",
    "country=input(\"Enter a country\")\n",
    "if country in capitals:\n",
    "    print(f\"{country}:{capitals[country]}\")\n"
   ]
  },
  {
   "cell_type": "code",
   "execution_count": null,
   "id": "c9fec11a-6061-4f67-9fa4-63a8cc13bb16",
   "metadata": {},
   "outputs": [],
   "source": []
  }
 ],
 "metadata": {
  "kernelspec": {
   "display_name": "Python 3 (ipykernel)",
   "language": "python",
   "name": "python3"
  },
  "language_info": {
   "codemirror_mode": {
    "name": "ipython",
    "version": 3
   },
   "file_extension": ".py",
   "mimetype": "text/x-python",
   "name": "python",
   "nbconvert_exporter": "python",
   "pygments_lexer": "ipython3",
   "version": "3.12.7"
  }
 },
 "nbformat": 4,
 "nbformat_minor": 5
}
