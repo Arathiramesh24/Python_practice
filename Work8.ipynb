{
 "cells": [
  {
   "cell_type": "raw",
   "id": "4b6eb4b3-ffca-496f-b588-a94597c00723",
   "metadata": {},
   "source": [
    "1.⁠ ⁠Create a dictionary of 5 students with their marks. Print the dictionary."
   ]
  },
  {
   "cell_type": "code",
   "execution_count": 4,
   "id": "a4bc54cb-ec93-4258-b916-fa0d6cd1ee86",
   "metadata": {},
   "outputs": [
    {
     "name": "stdout",
     "output_type": "stream",
     "text": [
      "{'Ananya': 85, 'Arya': 23, 'Deva': 50, 'Avani': 60, 'Anju': 80}\n"
     ]
    }
   ],
   "source": [
    "marks={'Ananya':85,'Arya':23,'Deva':50,'Avani':60,'Anju':80}\n",
    "print(marks)"
   ]
  },
  {
   "cell_type": "raw",
   "id": "286dfa77-6ad1-4f4c-ab01-5b1fb2399ffd",
   "metadata": {},
   "source": [
    " 2.⁠ ⁠Access the value of a specific key from a dictionary."
   ]
  },
  {
   "cell_type": "code",
   "execution_count": 14,
   "id": "6bcd7cb1-d61d-482c-90b4-a5a251ab441f",
   "metadata": {},
   "outputs": [
    {
     "name": "stdout",
     "output_type": "stream",
     "text": [
      "85\n",
      "85\n"
     ]
    }
   ],
   "source": [
    "print(marks['Ananya'])\n",
    "print(marks.get('Ananya'))"
   ]
  },
  {
   "cell_type": "raw",
   "id": "efe269c8-9a6b-4109-839a-9c77c8907fac",
   "metadata": {},
   "source": [
    " 3.⁠ ⁠Add a new key–value pair in the dictionary.\n"
   ]
  },
  {
   "cell_type": "code",
   "execution_count": 18,
   "id": "347bc0e3-1644-43e9-b876-00c90bf23bc0",
   "metadata": {},
   "outputs": [
    {
     "name": "stdout",
     "output_type": "stream",
     "text": [
      "{'Ananya': 85, 'Arya': 23, 'Deva': 50, 'Avani': 60, 'Anju': 80, 'Manjima': 90}\n",
      "{'Ananya': 85, 'Arya': 23, 'Deva': 50, 'Avani': 60, 'Anju': 80, 'Manjima': 90, 'Nandu': 10}\n"
     ]
    }
   ],
   "source": [
    "marks.update({'Manjima':90})\n",
    "print(marks)\n",
    "d1={'Nandu':10}\n",
    "marks.update(d1)\n",
    "print(marks)"
   ]
  },
  {
   "cell_type": "raw",
   "id": "09831483-e61a-4402-a8c2-81cbd5335940",
   "metadata": {},
   "source": [
    " 4.⁠ ⁠Update the value of an existing key in the dictionary.\n"
   ]
  },
  {
   "cell_type": "code",
   "execution_count": 20,
   "id": "5c295862-3890-4192-bac6-e2c85d2f12bc",
   "metadata": {},
   "outputs": [
    {
     "name": "stdout",
     "output_type": "stream",
     "text": [
      "{'Ananya': 85, 'Arya': 30, 'Deva': 50, 'Avani': 60, 'Anju': 80, 'Manjima': 90, 'Nandu': 10}\n"
     ]
    }
   ],
   "source": [
    "marks.update({'Arya':30})\n",
    "print(marks)"
   ]
  },
  {
   "cell_type": "raw",
   "id": "d60987f5-55d4-4311-869a-dec8804a5186",
   "metadata": {},
   "source": [
    " 5.⁠ ⁠Remove a key–value pair from the dictionary using pop().\n",
    " "
   ]
  },
  {
   "cell_type": "code",
   "execution_count": 22,
   "id": "f3c5dfb5-8d6d-409f-8c16-fb981de2190a",
   "metadata": {},
   "outputs": [
    {
     "name": "stdout",
     "output_type": "stream",
     "text": [
      "{'Ananya': 85, 'Arya': 30, 'Deva': 50, 'Anju': 80, 'Manjima': 90, 'Nandu': 10}\n"
     ]
    }
   ],
   "source": [
    "marks.pop('Avani')\n",
    "print(marks)"
   ]
  },
  {
   "cell_type": "raw",
   "id": "3c06d4e1-81dc-4597-a231-b89c83b5c9bd",
   "metadata": {},
   "source": [
    "6.⁠ ⁠Get all keys of a dictionary using .keys() function.\n"
   ]
  },
  {
   "cell_type": "code",
   "execution_count": 30,
   "id": "bf8e8e15-020a-45bc-9e0b-6f6a25ac6315",
   "metadata": {},
   "outputs": [
    {
     "name": "stdout",
     "output_type": "stream",
     "text": [
      "['Ananya', 'Arya', 'Deva', 'Anju', 'Manjima', 'Nandu']\n"
     ]
    }
   ],
   "source": [
    "key=marks.keys()\n",
    "print(list(key))"
   ]
  },
  {
   "cell_type": "raw",
   "id": "9b0f6361-84f9-4107-8844-1a4c8e6e28d2",
   "metadata": {},
   "source": [
    " 7.⁠ ⁠Get all values of a dictionary using .values() function.\n"
   ]
  },
  {
   "cell_type": "code",
   "execution_count": 32,
   "id": "a8f00fb4-731a-4fab-b13f-411aadfa20c9",
   "metadata": {},
   "outputs": [
    {
     "name": "stdout",
     "output_type": "stream",
     "text": [
      "[85, 30, 50, 80, 90, 10]\n"
     ]
    }
   ],
   "source": [
    "value=marks.values()\n",
    "print(list(value))"
   ]
  },
  {
   "cell_type": "raw",
   "id": "8287deec-c34b-4648-bfe7-a5eba96c779d",
   "metadata": {},
   "source": [
    "8.⁠ ⁠Get all key–value pairs from a dictionary using .items().\n",
    " "
   ]
  },
  {
   "cell_type": "code",
   "execution_count": 75,
   "id": "80f475f9-26f0-4872-8911-3c2ff80d2749",
   "metadata": {},
   "outputs": [
    {
     "name": "stdin",
     "output_type": "stream",
     "text": [
      "Enter a key Address\n"
     ]
    },
    {
     "data": {
      "text/plain": [
       "'Not found'"
      ]
     },
     "execution_count": 75,
     "metadata": {},
     "output_type": "execute_result"
    }
   ],
   "source": [
    "a=input(\"Enter a key\")\n",
    "marks.get(a,'Not found')"
   ]
  },
  {
   "cell_type": "code",
   "execution_count": 36,
   "id": "d42ce36e-bb30-47b5-b754-63ffd0800606",
   "metadata": {},
   "outputs": [
    {
     "name": "stdout",
     "output_type": "stream",
     "text": [
      "[('Ananya', 85), ('Arya', 30), ('Deva', 50), ('Anju', 80), ('Manjima', 90), ('Nandu', 10)]\n"
     ]
    }
   ],
   "source": [
    "items=marks.items()\n",
    "print(list(items))"
   ]
  },
  {
   "cell_type": "raw",
   "id": "2bb3c693-8b2e-4096-987b-68ddcf3f7bda",
   "metadata": {},
   "source": [
    "9.⁠ ⁠Check if a given key exists in the dictionary.\n"
   ]
  },
  {
   "cell_type": "code",
   "execution_count": 44,
   "id": "e32f0476-2bd8-4cb5-81c2-1d05fecd4c34",
   "metadata": {},
   "outputs": [
    {
     "name": "stdin",
     "output_type": "stream",
     "text": [
      "Enter a key Address\n"
     ]
    },
    {
     "data": {
      "text/plain": [
       "'Not found'"
      ]
     },
     "execution_count": 44,
     "metadata": {},
     "output_type": "execute_result"
    }
   ],
   "source": [
    "a=input(\"Enter a key\")\n",
    "marks.get(a,'Not found')"
   ]
  },
  {
   "cell_type": "raw",
   "id": "a6b63cd8-ddec-4fa6-894d-3d315b900602",
   "metadata": {},
   "source": [
    "10.⁠ ⁠Create a dictionary and print only keys using a loop.\n"
   ]
  },
  {
   "cell_type": "code",
   "execution_count": 46,
   "id": "e46f2b0c-4de5-48f4-ad68-388ce559e8ea",
   "metadata": {},
   "outputs": [
    {
     "name": "stdout",
     "output_type": "stream",
     "text": [
      "Name\n",
      "Age\n",
      "Location\n",
      "country\n"
     ]
    }
   ],
   "source": [
    "dic1={'Name':'Arathi','Age':23,'Location':'Kerala','country':'IND'}\n",
    "keys=dic1.keys()\n",
    "for key in keys:\n",
    "    print(key)"
   ]
  },
  {
   "cell_type": "raw",
   "id": "046e4d18-90c7-44a8-a9d5-466c78cf8ab0",
   "metadata": {},
   "source": [
    "11.⁠ ⁠Create a dictionary and print only values using a loop.\n"
   ]
  },
  {
   "cell_type": "code",
   "execution_count": 50,
   "id": "89d4e038-2973-4aeb-9f0d-bd9cebf81439",
   "metadata": {},
   "outputs": [
    {
     "name": "stdout",
     "output_type": "stream",
     "text": [
      "Arathi\n",
      "23\n",
      "Kerala\n",
      "IND\n"
     ]
    }
   ],
   "source": [
    "dic1={'Name':'Arathi','Age':23,'Location':'Kerala','country':'IND'}\n",
    "values=dic1.values()\n",
    "for value in values:\n",
    "    print(value)"
   ]
  },
  {
   "cell_type": "raw",
   "id": "0b1dc0dc-751b-4e09-ab60-b59151350bb1",
   "metadata": {},
   "source": [
    "12.⁠ ⁠Merge two dictionaries.\n"
   ]
  },
  {
   "cell_type": "code",
   "execution_count": 52,
   "id": "1cf1a2f9-a6b3-4ba0-ab6a-31976979a12b",
   "metadata": {},
   "outputs": [
    {
     "name": "stdout",
     "output_type": "stream",
     "text": [
      "{'Name': 'Arathi', 'Age': 23, 'Location': 'Kerala', 'country': 'IND', 'Department': 'AI'}\n"
     ]
    }
   ],
   "source": [
    "dic2={'Department':'AI'}\n",
    "dic1.update(dic2)\n",
    "print(dic1)"
   ]
  },
  {
   "cell_type": "raw",
   "id": "ce0eb811-092b-4526-91d8-376561ca5d51",
   "metadata": {},
   "source": [
    "13.⁠ ⁠Write a program to find the key with the maximum value in a dictionary.\n"
   ]
  },
  {
   "cell_type": "code",
   "execution_count": 66,
   "id": "46f68d31-0175-4498-a8ec-94dc7eb7e8d7",
   "metadata": {},
   "outputs": [
    {
     "name": "stdout",
     "output_type": "stream",
     "text": [
      "Maximum mark: Ananya\n"
     ]
    }
   ],
   "source": [
    "marks={'Ananya':85,'Arya':23,'Deva':50,'Avani':60,'Anju':80}\n",
    "max_mark=max(marks, key=marks.get)\n",
    "print(\"Maximum mark:\",max_mark)"
   ]
  },
  {
   "cell_type": "raw",
   "id": "fb1b2a06-6ef9-4a78-bec9-70b9489b17bd",
   "metadata": {},
   "source": [
    "14.⁠ ⁠Create a nested dictionary and access the inner dictionary value.\n"
   ]
  },
  {
   "cell_type": "code",
   "execution_count": 73,
   "id": "abd7af2a-e61c-470d-9e85-585ccf4c48d7",
   "metadata": {},
   "outputs": [
    {
     "name": "stdout",
     "output_type": "stream",
     "text": [
      "Bob\n"
     ]
    }
   ],
   "source": [
    "students = {\n",
    "    \"student1\": {\"name\": \"Alice\", \"age\": 20, \"grade\": \"A\"},\n",
    "    \"student2\": {\"name\": \"Bob\", \"age\": 22, \"grade\": \"B\"}\n",
    "}\n",
    "grade=students['student2']['name']\n",
    "print(grade)"
   ]
  },
  {
   "cell_type": "raw",
   "id": "41a4bac6-bf20-494d-9852-ab31aff09614",
   "metadata": {},
   "source": [
    "15.⁠ ⁠Create two lists: one with names and one with marks. Use zip() to combine them into a dictionary.\n"
   ]
  },
  {
   "cell_type": "code",
   "execution_count": 77,
   "id": "1debaedf-b773-4479-90b0-8f6de9af46c7",
   "metadata": {},
   "outputs": [
    {
     "name": "stdout",
     "output_type": "stream",
     "text": [
      "{'Alice': 85, 'Bob': 92, 'Charlie': 78}\n"
     ]
    }
   ],
   "source": [
    "names = [\"Alice\", \"Bob\", \"Charlie\"]\n",
    "marks = [85, 92, 78]\n",
    "student_marks = dict(zip(names, marks))\n",
    "print(student_marks)"
   ]
  },
  {
   "cell_type": "raw",
   "id": "ce625379-fef8-48f2-96e9-30fca8ef1614",
   "metadata": {},
   "source": []
  },
  {
   "cell_type": "raw",
   "id": "2d4fd07b-3138-403c-87e8-1858f41499d0",
   "metadata": {},
   "source": [
    "16.⁠ ⁠Create a dictionary using fromkeys() with a list of keys and the same default value."
   ]
  },
  {
   "cell_type": "code",
   "execution_count": 79,
   "id": "e0d30211-108e-472b-8925-0a453b55aaff",
   "metadata": {},
   "outputs": [
    {
     "name": "stdout",
     "output_type": "stream",
     "text": [
      "{'Math': 0, 'Science': 0, 'English': 0}\n"
     ]
    }
   ],
   "source": [
    "subjects = [\"Math\", \"Science\", \"English\"]\n",
    "marks = dict.fromkeys(subjects, 0)\n",
    "print(marks)"
   ]
  },
  {
   "cell_type": "code",
   "execution_count": null,
   "id": "05857033-6337-4685-a753-1f1444ed6b9a",
   "metadata": {},
   "outputs": [],
   "source": []
  }
 ],
 "metadata": {
  "kernelspec": {
   "display_name": "Python 3 (ipykernel)",
   "language": "python",
   "name": "python3"
  },
  "language_info": {
   "codemirror_mode": {
    "name": "ipython",
    "version": 3
   },
   "file_extension": ".py",
   "mimetype": "text/x-python",
   "name": "python",
   "nbconvert_exporter": "python",
   "pygments_lexer": "ipython3",
   "version": "3.12.7"
  }
 },
 "nbformat": 4,
 "nbformat_minor": 5
}
