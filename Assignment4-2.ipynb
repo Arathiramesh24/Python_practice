{
 "cells": [
  {
   "cell_type": "raw",
   "id": "875ee0db-9248-4a8a-8950-6fc3c43de6be",
   "metadata": {},
   "source": [
    "Write a program that takes a sentence as input. Capitalize the first letter of the sentence and print the modified sentence."
   ]
  },
  {
   "cell_type": "code",
   "execution_count": 1,
   "id": "50073d76-6ede-4919-a7ab-0a9eb5b31d12",
   "metadata": {},
   "outputs": [
    {
     "name": "stdin",
     "output_type": "stream",
     "text": [
      "Write a text: hi arathi\n"
     ]
    },
    {
     "name": "stdout",
     "output_type": "stream",
     "text": [
      "Hi arathi\n"
     ]
    }
   ],
   "source": [
    "a=input(\"Write a text:\")\n",
    "print(a.capitalize())"
   ]
  },
  {
   "cell_type": "raw",
   "id": "f62aec0e-bce9-4357-a5d6-6d60ec80f4af",
   "metadata": {},
   "source": [
    "Write a program that takes a string as input. Convert the entire string to lowercase and print it."
   ]
  },
  {
   "cell_type": "code",
   "execution_count": 2,
   "id": "520a12a1-9ddd-4a25-93bb-08fb9a55126b",
   "metadata": {},
   "outputs": [
    {
     "name": "stdin",
     "output_type": "stream",
     "text": [
      "Type something HOW ARE YOU?\n"
     ]
    },
    {
     "data": {
      "text/plain": [
       "'how are you?'"
      ]
     },
     "execution_count": 2,
     "metadata": {},
     "output_type": "execute_result"
    }
   ],
   "source": [
    "string=input(\"Type something\")\n",
    "string.lower()"
   ]
  },
  {
   "cell_type": "raw",
   "id": "120e4aef-8bd2-421a-8242-1c62889a5331",
   "metadata": {},
   "source": [
    "Write a program that takes a string as input. Convert the entire string to uppercase and print it.\n"
   ]
  },
  {
   "cell_type": "code",
   "execution_count": 3,
   "id": "02be0670-5516-4a26-8368-89375b2a6c37",
   "metadata": {},
   "outputs": [
    {
     "name": "stdin",
     "output_type": "stream",
     "text": [
      "Type something hello there!\n"
     ]
    },
    {
     "data": {
      "text/plain": [
       "'HELLO THERE!'"
      ]
     },
     "execution_count": 3,
     "metadata": {},
     "output_type": "execute_result"
    }
   ],
   "source": [
    "string=input(\"Type something\")\n",
    "string.upper()"
   ]
  },
  {
   "cell_type": "raw",
   "id": "a4285f9d-32c4-469f-88df-4cad7799f08b",
   "metadata": {},
   "source": [
    "Write a program that takes a sentence as input. Convert the sentence to title case (where the first letter of each word is capitalized) and print it.\n",
    "\n"
   ]
  },
  {
   "cell_type": "code",
   "execution_count": 4,
   "id": "2fa1b47e-a8a4-4d89-90af-915424b21ab0",
   "metadata": {},
   "outputs": [
    {
     "name": "stdin",
     "output_type": "stream",
     "text": [
      "Type something a big elephant\n"
     ]
    },
    {
     "data": {
      "text/plain": [
       "'A Big Elephant'"
      ]
     },
     "execution_count": 4,
     "metadata": {},
     "output_type": "execute_result"
    }
   ],
   "source": [
    "string=input(\"Type something\")\n",
    "string.title()"
   ]
  },
  {
   "cell_type": "raw",
   "id": "1374489b-ef54-422c-aa2c-9028814c4ffb",
   "metadata": {},
   "source": [
    "Write a program that takes a string with leading spaces as input. Remove the leading spaces and print the stripped string."
   ]
  },
  {
   "cell_type": "code",
   "execution_count": 5,
   "id": "fe3d5b2f-79f4-444a-92be-e2a67ba0e7c2",
   "metadata": {},
   "outputs": [
    {
     "name": "stdin",
     "output_type": "stream",
     "text": [
      "Type something      hi\n"
     ]
    },
    {
     "data": {
      "text/plain": [
       "'hi'"
      ]
     },
     "execution_count": 5,
     "metadata": {},
     "output_type": "execute_result"
    }
   ],
   "source": [
    "string=input(\"Type something\")\n",
    "string.lstrip()"
   ]
  },
  {
   "cell_type": "raw",
   "id": "f3103aef-f2d6-4d9c-be14-98408ab4aca6",
   "metadata": {},
   "source": [
    "Write a program that takes a string with trailing spaces as input. Remove the trailing spaces and print the stripped string."
   ]
  },
  {
   "cell_type": "code",
   "execution_count": 6,
   "id": "d6cd984c-4a5c-49b0-9bb1-6d5b3a5c8278",
   "metadata": {},
   "outputs": [
    {
     "name": "stdin",
     "output_type": "stream",
     "text": [
      "Type something hellooo.        \n"
     ]
    },
    {
     "data": {
      "text/plain": [
       "'hellooo.'"
      ]
     },
     "execution_count": 6,
     "metadata": {},
     "output_type": "execute_result"
    }
   ],
   "source": [
    "string=input(\"Type something\")\n",
    "string.rstrip()"
   ]
  },
  {
   "cell_type": "raw",
   "id": "dee27bb5-70b8-4828-837f-a8e1d562d185",
   "metadata": {},
   "source": [
    "Write a program that takes a string with leading and trailing spaces as input. Remove both leading and trailing spaces and print the stripped string."
   ]
  },
  {
   "cell_type": "code",
   "execution_count": 7,
   "id": "65523ca8-9fd4-47ff-aa37-0ce2fe7f71b7",
   "metadata": {},
   "outputs": [
    {
     "name": "stdin",
     "output_type": "stream",
     "text": [
      "Type something        hi there.                 \n"
     ]
    },
    {
     "data": {
      "text/plain": [
       "'hi there.'"
      ]
     },
     "execution_count": 7,
     "metadata": {},
     "output_type": "execute_result"
    }
   ],
   "source": [
    "string=input(\"Type something\")\n",
    "string.strip()"
   ]
  },
  {
   "cell_type": "raw",
   "id": "d20808bd-0c92-4fc7-9f7c-03382f545769",
   "metadata": {},
   "source": [
    "Write a program that takes a sentence and two words (old and new) as input. Replace all occurrences of the old word with the new word in the sentence and print the result."
   ]
  },
  {
   "cell_type": "code",
   "execution_count": 31,
   "id": "30ad2abc-8288-4480-beb0-c5307cdf6b69",
   "metadata": {},
   "outputs": [
    {
     "name": "stdin",
     "output_type": "stream",
     "text": [
      "Enter a text: Kukku loves ice cream\n",
      "Enter a word to replace: ice cream\n",
      "Enter the new word: Biriyani\n"
     ]
    },
    {
     "data": {
      "text/plain": [
       "'Kukku loves Biriyani'"
      ]
     },
     "execution_count": 31,
     "metadata": {},
     "output_type": "execute_result"
    }
   ],
   "source": [
    "string=input(\"Enter a text:\")\n",
    "old_word=input(\"Enter a word to replace:\")\n",
    "new_word=input(\"Enter the new word:\")\n",
    "string.replace(old_word,new_word)\n"
   ]
  },
  {
   "cell_type": "raw",
   "id": "bd0e9dc9-4feb-42c6-b4c2-9c008cbbdb53",
   "metadata": {},
   "source": [
    "Write a program that takes a string and a character as input. Count the number of times the character appears in the string (case-insensitive) using a loop and conditional statements (or directly with ⁠ count() ⁠ after converting the string to a single case)."
   ]
  },
  {
   "cell_type": "code",
   "execution_count": 9,
   "id": "cafd6d6e-05bf-43f7-83e1-3570375fb469",
   "metadata": {},
   "outputs": [
    {
     "name": "stdin",
     "output_type": "stream",
     "text": [
      "Enter a string Ramu love banana\n",
      "Enter a character a\n"
     ]
    },
    {
     "data": {
      "text/plain": [
       "4"
      ]
     },
     "execution_count": 9,
     "metadata": {},
     "output_type": "execute_result"
    }
   ],
   "source": [
    "string=input(\"Enter a string\")\n",
    "char=input(\"Enter a character\")\n",
    "string.count(char)"
   ]
  },
  {
   "cell_type": "code",
   "execution_count": 10,
   "id": "7b6d813c-444a-48fe-a8cd-98cd48cfe7ac",
   "metadata": {},
   "outputs": [
    {
     "name": "stdin",
     "output_type": "stream",
     "text": [
      "Enter a string Ramu love banana\n",
      "Enter a character a\n"
     ]
    },
    {
     "name": "stdout",
     "output_type": "stream",
     "text": [
      "4 number of times a\n"
     ]
    }
   ],
   "source": [
    "string=input(\"Enter a string\")\n",
    "char=input(\"Enter a character\")\n",
    "string.lower()\n",
    "string.lower()\n",
    "count=0\n",
    "for ch in string:\n",
    "    if ch==char:\n",
    "        count+=1\n",
    "print(f\"{count} number of times {char}\")\n",
    "\n"
   ]
  },
  {
   "cell_type": "raw",
   "id": "dafa0dab-d7d1-417d-b511-10bf7dffb8d9",
   "metadata": {},
   "source": [
    " Write a program that takes a string and a substring as input. Find the index of the first occurrence of the substring. If the substring is not found, print a message indicating that."
   ]
  },
  {
   "cell_type": "code",
   "execution_count": 11,
   "id": "e35b2c5a-1a49-4a55-a2a7-382b836cc4bc",
   "metadata": {},
   "outputs": [
    {
     "name": "stdin",
     "output_type": "stream",
     "text": [
      "Enter a string: Radha and mine are friends\n",
      "Enter a substring: are\n"
     ]
    },
    {
     "name": "stdout",
     "output_type": "stream",
     "text": [
      "the are is found at index 15\n"
     ]
    }
   ],
   "source": [
    "string=input(\"Enter a string:\")\n",
    "string1=input(\"Enter a substring:\")\n",
    "index=string.index(string1)\n",
    "if index!= -1:\n",
    "    print(f\"the {string1} is found at index {index}\")\n",
    "else:\n",
    "    print(f\"the{string1} is not found\")\n"
   ]
  },
  {
   "cell_type": "raw",
   "id": "a18682fa-0ac6-4298-a4be-e22e21bb6fbf",
   "metadata": {},
   "source": [
    "Write a program that takes a string and a substring as input. Find all occurrences of the substring in the string using a ⁠ while ⁠ loop and the ⁠ find() ⁠ method. \n",
    "Print the starting index of each occurrence."
   ]
  },
  {
   "cell_type": "code",
   "execution_count": 12,
   "id": "114ba379-7499-4ec4-ae4a-5d8682de83ad",
   "metadata": {},
   "outputs": [
    {
     "name": "stdin",
     "output_type": "stream",
     "text": [
      "Type something Radha and mine are friends\n",
      "Type the word need to find are\n"
     ]
    },
    {
     "name": "stdout",
     "output_type": "stream",
     "text": [
      "The substring is found at 15\n"
     ]
    }
   ],
   "source": [
    "string=input(\"Type something\")\n",
    "string1=input(\"Type the word need to find\")\n",
    "index=string.find(string1)\n",
    "while index != -1:\n",
    "    print(f\"The substring is found at\",index)\n",
    "    index=string1.find(string1, index + 1)\n"
   ]
  },
  {
   "cell_type": "raw",
   "id": "3f64797c-4c36-4428-b188-eb8c0149d55b",
   "metadata": {},
   "source": [
    "Write a program that takes a comma-separated string of items as input. Split the string into a list of individual items and print each item.\n"
   ]
  },
  {
   "cell_type": "code",
   "execution_count": 13,
   "id": "699893f7-79f4-44fa-a8d4-2023222569ac",
   "metadata": {},
   "outputs": [
    {
     "name": "stdin",
     "output_type": "stream",
     "text": [
      "Enter a comma separeted string Hi, there!\n"
     ]
    },
    {
     "name": "stdout",
     "output_type": "stream",
     "text": [
      "Hi\n",
      "there!\n"
     ]
    }
   ],
   "source": [
    "strings=input(\"Enter a comma separeted string\")\n",
    "text=strings.split(',')\n",
    "for string in text:\n",
    "    print(string.strip())\n"
   ]
  },
  {
   "cell_type": "raw",
   "id": "c41880bd-971b-4f9e-93c2-5d82919e5ae3",
   "metadata": {},
   "source": [
    "Write a program that takes a filename as input. Check if the filename ends with \".txt\". If it does, print \"This is a text file.\"; otherwise, print \"This is not necessarily a text file.\"\n"
   ]
  },
  {
   "cell_type": "code",
   "execution_count": 14,
   "id": "9094becc-b2fe-4c94-8842-fdfb8e295fab",
   "metadata": {},
   "outputs": [
    {
     "name": "stdin",
     "output_type": "stream",
     "text": [
      "write the filename document.txt\n"
     ]
    },
    {
     "data": {
      "text/plain": [
       "True"
      ]
     },
     "execution_count": 14,
     "metadata": {},
     "output_type": "execute_result"
    }
   ],
   "source": [
    "file=input(\"write the filename\")\n",
    "file.endswith(\".txt\")"
   ]
  },
  {
   "cell_type": "raw",
   "id": "1c7758ee-159c-40f3-a4b3-8f99b8b2e12d",
   "metadata": {},
   "source": [
    "Write a program that takes a line of text as input. Check if the line starts with \"Subject: \". If it does, print \"This line is likely an email subject.\"; otherwise, print \"This line does not appear to be an email subject.\"\n"
   ]
  },
  {
   "cell_type": "code",
   "execution_count": 15,
   "id": "3f7eb87a-8330-4bcf-9362-4e0ae32f216c",
   "metadata": {},
   "outputs": [
    {
     "name": "stdin",
     "output_type": "stream",
     "text": [
      "write a text HI SOMAN\n",
      "starting word of the sentence ji\n"
     ]
    },
    {
     "data": {
      "text/plain": [
       "False"
      ]
     },
     "execution_count": 15,
     "metadata": {},
     "output_type": "execute_result"
    }
   ],
   "source": [
    "text=input(\"write a text\")\n",
    "text1=input(\"starting word of the sentence\")\n",
    "if text.startswith(text1):\n",
    "    print(\"This line is likely an email subject.\")\n",
    "else:\n",
    "    print(\"This line does not appear to be an email subject.\")"
   ]
  },
  {
   "cell_type": "raw",
   "id": "b963dba4-13a3-4149-b642-6b9d01e16361",
   "metadata": {},
   "source": [
    "Write a program that takes a string as input and checks if all characters in the string are alphanumeric. Print \"Alphanumeric string\" or \"Not an alphanumeric string.\"\n"
   ]
  },
  {
   "cell_type": "code",
   "execution_count": 16,
   "id": "224f8938-29ae-42c7-9d90-9b788cda6d89",
   "metadata": {},
   "outputs": [
    {
     "name": "stdin",
     "output_type": "stream",
     "text": [
      "write something hi123\n"
     ]
    },
    {
     "name": "stdout",
     "output_type": "stream",
     "text": [
      "Alphanumeric string\n"
     ]
    }
   ],
   "source": [
    "string=input(\"write something\")\n",
    "if string.isalnum():\n",
    "    print(\"Alphanumeric string\")\n",
    "else:\n",
    "    print(\"Not an alphanumeric string\")"
   ]
  },
  {
   "cell_type": "raw",
   "id": "fe4597df-5558-4926-9fc6-413f5f3c27a8",
   "metadata": {},
   "source": [
    "Write a program that takes a string as input and checks if all characters in the string are alphabetic. Print \"Alphabetic string\" or \"Not an alphabetic string.\""
   ]
  },
  {
   "cell_type": "code",
   "execution_count": 17,
   "id": "68f5ca15-3bb9-4598-98a5-102d1edc14f3",
   "metadata": {},
   "outputs": [
    {
     "name": "stdin",
     "output_type": "stream",
     "text": [
      "write something isal\n"
     ]
    },
    {
     "name": "stdout",
     "output_type": "stream",
     "text": [
      "Alphabetic string\n"
     ]
    }
   ],
   "source": [
    "text=input(\"write something\")\n",
    "if text.isalpha():\n",
    "    print(\"Alphabetic string\")\n",
    "else:\n",
    "    print(\"Not an alphabetic string.\")"
   ]
  },
  {
   "cell_type": "raw",
   "id": "66d5e3b2-0703-4eae-bcec-6c95d5606e24",
   "metadata": {},
   "source": [
    "Write a program that takes a string as input and checks if all characters in the string are decimal digits. Print \"Decimal string\" or \"Not a decimal string.\"\n"
   ]
  },
  {
   "cell_type": "code",
   "execution_count": 18,
   "id": "3470a4d0-8dc2-4734-a60e-86d9599033cc",
   "metadata": {},
   "outputs": [
    {
     "name": "stdin",
     "output_type": "stream",
     "text": [
      "type decimal numbers 123\n"
     ]
    },
    {
     "name": "stdout",
     "output_type": "stream",
     "text": [
      "Decimal string\n"
     ]
    }
   ],
   "source": [
    "text=input(\"type decimal numbers\")\n",
    "if text.isdecimal():\n",
    "    print(\"Decimal string\")\n",
    "else:\n",
    "    print(\"Not a decimal string\")"
   ]
  },
  {
   "cell_type": "raw",
   "id": "f2a3cf2b-85a7-4615-b0a4-dda4131e2eb6",
   "metadata": {},
   "source": [
    "Write a program that takes a string as input and checks if all characters in the string are digits. Print \"Digit string\" or \"Not a digit string.\"\n"
   ]
  },
  {
   "cell_type": "code",
   "execution_count": 19,
   "id": "f53b50fd-7008-446c-a311-ac2e956e1b95",
   "metadata": {},
   "outputs": [
    {
     "name": "stdin",
     "output_type": "stream",
     "text": [
      "type digits 34\n"
     ]
    },
    {
     "name": "stdout",
     "output_type": "stream",
     "text": [
      "Digit string\n"
     ]
    }
   ],
   "source": [
    "text=input(\"type digits\")\n",
    "if text.isdigit():\n",
    "    print(\"Digit string\")\n",
    "else:\n",
    "    print(\"Not a digit string\")\n",
    "    \n"
   ]
  },
  {
   "cell_type": "raw",
   "id": "fb9a87f9-c705-4186-acbd-4733dd0bb6d4",
   "metadata": {},
   "source": [
    "Write a program that takes a string as input and checks if all characters in the string are numeric characters. Print \"Numeric string\" or \"Not a numeric string\n"
   ]
  },
  {
   "cell_type": "code",
   "execution_count": 20,
   "id": "23261a0d-f9c6-472d-8105-27576689f78f",
   "metadata": {},
   "outputs": [
    {
     "name": "stdin",
     "output_type": "stream",
     "text": [
      "type numbers 78\n"
     ]
    },
    {
     "name": "stdout",
     "output_type": "stream",
     "text": [
      "Numeric string\n"
     ]
    }
   ],
   "source": [
    "text=input(\"type numbers\")\n",
    "if text.isnumeric():\n",
    "    print(\"Numeric string\")\n",
    "else:\n",
    "    print(\"Not a Numeric string\")\n",
    "    "
   ]
  },
  {
   "cell_type": "raw",
   "id": "8d57b272-7dac-4f97-8214-2c174b22b5f0",
   "metadata": {},
   "source": [
    "Write a program that takes a string as input. Check if all cased characters in the string are lowercase. If they are, print \"All lowercase\"; otherwise, print \"Not all lowercase.\"\n"
   ]
  },
  {
   "cell_type": "code",
   "execution_count": 21,
   "id": "d5a7a07d-f241-4b22-8286-856583a8a277",
   "metadata": {},
   "outputs": [
    {
     "name": "stdin",
     "output_type": "stream",
     "text": [
      "type something Kikki is a good girl\n"
     ]
    },
    {
     "name": "stdout",
     "output_type": "stream",
     "text": [
      "Not all lowercase.\n"
     ]
    }
   ],
   "source": [
    "text=input(\"type something\")\n",
    "if text.islower():\n",
    "    print(\"All lowercase\")\n",
    "else:\n",
    "    print(\"Not all lowercase.\")\n",
    "    "
   ]
  },
  {
   "cell_type": "raw",
   "id": "15392edb-488e-46a9-8cb0-a6b7aafb9cad",
   "metadata": {},
   "source": [
    "Write a program that takes a string as input. Check if all cased characters in the string are uppercase. If they are, print \"All uppercase\"; otherwise, print \"Not all uppercase.\"\n",
    "\n"
   ]
  },
  {
   "cell_type": "code",
   "execution_count": 22,
   "id": "a16c304a-99dc-45e7-b826-ab3d5605c9da",
   "metadata": {},
   "outputs": [
    {
     "name": "stdin",
     "output_type": "stream",
     "text": [
      "type something HI FRIENDS\n"
     ]
    },
    {
     "name": "stdout",
     "output_type": "stream",
     "text": [
      "All uppercase\n"
     ]
    }
   ],
   "source": [
    "text=input(\"type something\")\n",
    "if text.isupper():\n",
    "    print(\"All uppercase\")\n",
    "else:\n",
    "    print(\"Not all uppercase.\")"
   ]
  },
  {
   "cell_type": "raw",
   "id": "474d88cd-2612-468f-a94e-c87309aa9f61",
   "metadata": {},
   "source": [
    "Write a program that takes a string as input. Check if the string is in title case. If it is, print \"Title case string\"; otherwise, print \"Not a title case string.\"\n"
   ]
  },
  {
   "cell_type": "code",
   "execution_count": 33,
   "id": "0adcceb8-7d04-40be-af5c-53fe1738bcdf",
   "metadata": {},
   "outputs": [
    {
     "name": "stdin",
     "output_type": "stream",
     "text": [
      "type something A Big Elephant\n"
     ]
    },
    {
     "name": "stdout",
     "output_type": "stream",
     "text": [
      "Title case string\n"
     ]
    }
   ],
   "source": [
    "text=input(\"type something\")\n",
    "if text.istitle():\n",
    "    print(\"Title case string\")\n",
    "else:\n",
    "    print(\"Not a title case string.\")"
   ]
  },
  {
   "cell_type": "raw",
   "id": "6be8b7e3-023a-4da5-bcf4-991fd691e739",
   "metadata": {},
   "source": [
    " Write a program that takes a string as input. Check if all characters in the string are whitespace characters. If they are, print \"Whitespace string\"; otherwise, print \"Not a whitespace string.\"\n"
   ]
  },
  {
   "cell_type": "code",
   "execution_count": 24,
   "id": "3419d5be-4c81-4eb2-b62d-b3aae8afda3b",
   "metadata": {},
   "outputs": [
    {
     "name": "stdin",
     "output_type": "stream",
     "text": [
      "type something   IT\n"
     ]
    },
    {
     "name": "stdout",
     "output_type": "stream",
     "text": [
      "Not a whitespace string.\n"
     ]
    }
   ],
   "source": [
    "text=input(\"type something\")\n",
    "if text.isspace():\n",
    "    print(\"Whitespace string\")\n",
    "else:\n",
    "    print(\"Not a whitespace string.\")"
   ]
  },
  {
   "cell_type": "raw",
   "id": "e88b2763-ac94-48c0-89b9-75b5ad4f2d8b",
   "metadata": {},
   "source": [
    "Write a program that takes a number (as a string) and a desired width as input. Pad the beginning of the number with leading zeros so that it reaches the specified width. Print the zero-filled string.\n"
   ]
  },
  {
   "cell_type": "code",
   "execution_count": 25,
   "id": "7e3b584e-3fd0-444e-a668-ef970d2fbd56",
   "metadata": {},
   "outputs": [
    {
     "name": "stdin",
     "output_type": "stream",
     "text": [
      "type a number 56\n",
      "desired width of input 5\n"
     ]
    },
    {
     "name": "stdout",
     "output_type": "stream",
     "text": [
      "Padded text: 00056\n",
      "Length of padded text: 5\n"
     ]
    }
   ],
   "source": [
    "text=input(\"type a number\")\n",
    "text1=int(input(\"desired width of input\"))\n",
    "padded_text = text.zfill(text1)\n",
    "print(\"Padded text:\", padded_text)\n",
    "print(\"Length of padded text:\", len(padded_text))"
   ]
  },
  {
   "cell_type": "raw",
   "id": "0709226e-9c3e-47e4-8741-2562a8f1f1fa",
   "metadata": {},
   "source": [
    "Question: Write a program that takes a string and a width as input. Center the string within the specified width, using '*' as the fill character, and print the result.\n"
   ]
  },
  {
   "cell_type": "code",
   "execution_count": 26,
   "id": "2a30cdad-3ff0-4ef7-9ea6-a2f133751675",
   "metadata": {},
   "outputs": [
    {
     "name": "stdin",
     "output_type": "stream",
     "text": [
      "type a number 56\n",
      "desired width of input 7\n"
     ]
    },
    {
     "name": "stdout",
     "output_type": "stream",
     "text": [
      "Centered string: ***56**\n"
     ]
    }
   ],
   "source": [
    "text=input(\"type a number\")\n",
    "text1=int(input(\"desired width of input\"))\n",
    "centered_text = text.center(text1, '*')\n",
    "print(\"Centered string:\", centered_text)"
   ]
  },
  {
   "cell_type": "code",
   "execution_count": 27,
   "id": "60aea98e-1899-435f-96dd-e50494eb7d08",
   "metadata": {},
   "outputs": [
    {
     "name": "stdout",
     "output_type": "stream",
     "text": [
      "Requirement already satisfied: nbconvert in /opt/anaconda3/lib/python3.12/site-packages (7.16.4)\n",
      "Requirement already satisfied: beautifulsoup4 in /opt/anaconda3/lib/python3.12/site-packages (from nbconvert) (4.12.3)\n",
      "Requirement already satisfied: bleach!=5.0.0 in /opt/anaconda3/lib/python3.12/site-packages (from nbconvert) (4.1.0)\n",
      "Requirement already satisfied: defusedxml in /opt/anaconda3/lib/python3.12/site-packages (from nbconvert) (0.7.1)\n",
      "Requirement already satisfied: jinja2>=3.0 in /opt/anaconda3/lib/python3.12/site-packages (from nbconvert) (3.1.4)\n",
      "Requirement already satisfied: jupyter-core>=4.7 in /opt/anaconda3/lib/python3.12/site-packages (from nbconvert) (5.7.2)\n",
      "Requirement already satisfied: jupyterlab-pygments in /opt/anaconda3/lib/python3.12/site-packages (from nbconvert) (0.1.2)\n",
      "Requirement already satisfied: markupsafe>=2.0 in /opt/anaconda3/lib/python3.12/site-packages (from nbconvert) (2.1.3)\n",
      "Requirement already satisfied: mistune<4,>=2.0.3 in /opt/anaconda3/lib/python3.12/site-packages (from nbconvert) (2.0.4)\n",
      "Requirement already satisfied: nbclient>=0.5.0 in /opt/anaconda3/lib/python3.12/site-packages (from nbconvert) (0.8.0)\n",
      "Requirement already satisfied: nbformat>=5.7 in /opt/anaconda3/lib/python3.12/site-packages (from nbconvert) (5.10.4)\n",
      "Requirement already satisfied: packaging in /opt/anaconda3/lib/python3.12/site-packages (from nbconvert) (24.1)\n",
      "Requirement already satisfied: pandocfilters>=1.4.1 in /opt/anaconda3/lib/python3.12/site-packages (from nbconvert) (1.5.0)\n",
      "Requirement already satisfied: pygments>=2.4.1 in /opt/anaconda3/lib/python3.12/site-packages (from nbconvert) (2.15.1)\n",
      "Requirement already satisfied: tinycss2 in /opt/anaconda3/lib/python3.12/site-packages (from nbconvert) (1.2.1)\n",
      "Requirement already satisfied: traitlets>=5.1 in /opt/anaconda3/lib/python3.12/site-packages (from nbconvert) (5.14.3)\n",
      "Requirement already satisfied: six>=1.9.0 in /opt/anaconda3/lib/python3.12/site-packages (from bleach!=5.0.0->nbconvert) (1.16.0)\n",
      "Requirement already satisfied: webencodings in /opt/anaconda3/lib/python3.12/site-packages (from bleach!=5.0.0->nbconvert) (0.5.1)\n",
      "Requirement already satisfied: platformdirs>=2.5 in /opt/anaconda3/lib/python3.12/site-packages (from jupyter-core>=4.7->nbconvert) (3.10.0)\n",
      "Requirement already satisfied: jupyter-client>=6.1.12 in /opt/anaconda3/lib/python3.12/site-packages (from nbclient>=0.5.0->nbconvert) (8.6.0)\n",
      "Requirement already satisfied: fastjsonschema>=2.15 in /opt/anaconda3/lib/python3.12/site-packages (from nbformat>=5.7->nbconvert) (2.16.2)\n",
      "Requirement already satisfied: jsonschema>=2.6 in /opt/anaconda3/lib/python3.12/site-packages (from nbformat>=5.7->nbconvert) (4.23.0)\n",
      "Requirement already satisfied: soupsieve>1.2 in /opt/anaconda3/lib/python3.12/site-packages (from beautifulsoup4->nbconvert) (2.5)\n",
      "Requirement already satisfied: attrs>=22.2.0 in /opt/anaconda3/lib/python3.12/site-packages (from jsonschema>=2.6->nbformat>=5.7->nbconvert) (23.1.0)\n",
      "Requirement already satisfied: jsonschema-specifications>=2023.03.6 in /opt/anaconda3/lib/python3.12/site-packages (from jsonschema>=2.6->nbformat>=5.7->nbconvert) (2023.7.1)\n",
      "Requirement already satisfied: referencing>=0.28.4 in /opt/anaconda3/lib/python3.12/site-packages (from jsonschema>=2.6->nbformat>=5.7->nbconvert) (0.30.2)\n",
      "Requirement already satisfied: rpds-py>=0.7.1 in /opt/anaconda3/lib/python3.12/site-packages (from jsonschema>=2.6->nbformat>=5.7->nbconvert) (0.10.6)\n",
      "Requirement already satisfied: python-dateutil>=2.8.2 in /opt/anaconda3/lib/python3.12/site-packages (from jupyter-client>=6.1.12->nbclient>=0.5.0->nbconvert) (2.9.0.post0)\n",
      "Requirement already satisfied: pyzmq>=23.0 in /opt/anaconda3/lib/python3.12/site-packages (from jupyter-client>=6.1.12->nbclient>=0.5.0->nbconvert) (25.1.2)\n",
      "Requirement already satisfied: tornado>=6.2 in /opt/anaconda3/lib/python3.12/site-packages (from jupyter-client>=6.1.12->nbclient>=0.5.0->nbconvert) (6.4.1)\n",
      "Note: you may need to restart the kernel to use updated packages.\n"
     ]
    }
   ],
   "source": [
    "pip install nbconvert"
   ]
  },
  {
   "cell_type": "code",
   "execution_count": 29,
   "id": "73abcb54-10a5-44dd-8fc6-e8d8d4c596f3",
   "metadata": {},
   "outputs": [
    {
     "ename": "SyntaxError",
     "evalue": "invalid syntax (3713954072.py, line 1)",
     "output_type": "error",
     "traceback": [
      "\u001b[0;36m  Cell \u001b[0;32mIn[29], line 1\u001b[0;36m\u001b[0m\n\u001b[0;31m    jupyter nbconvert your_notebook.ipynb --to pdf\u001b[0m\n\u001b[0m            ^\u001b[0m\n\u001b[0;31mSyntaxError\u001b[0m\u001b[0;31m:\u001b[0m invalid syntax\n"
     ]
    }
   ],
   "source": [
    "jupyter nbconvert your_notebook.ipynb --to pdf\n"
   ]
  },
  {
   "cell_type": "code",
   "execution_count": null,
   "id": "c8de2daf-5065-4ce5-80f3-91718014ba50",
   "metadata": {},
   "outputs": [],
   "source": []
  }
 ],
 "metadata": {
  "kernelspec": {
   "display_name": "Python 3 (ipykernel)",
   "language": "python",
   "name": "python3"
  },
  "language_info": {
   "codemirror_mode": {
    "name": "ipython",
    "version": 3
   },
   "file_extension": ".py",
   "mimetype": "text/x-python",
   "name": "python",
   "nbconvert_exporter": "python",
   "pygments_lexer": "ipython3",
   "version": "3.12.7"
  }
 },
 "nbformat": 4,
 "nbformat_minor": 5
}
